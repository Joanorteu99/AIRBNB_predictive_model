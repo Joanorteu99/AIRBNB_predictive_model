{
 "cells": [
  {
   "cell_type": "markdown",
   "id": "86297285",
   "metadata": {
    "ExecuteTime": {
     "end_time": "2023-10-09T23:48:39.114066Z",
     "start_time": "2023-10-09T23:48:39.102521Z"
    }
   },
   "source": [
    "<table style=\"width: 100%;\">\n",
    "  <tr>\n",
    "    <td style=\"text-align: left;\"><h1 style=\"font-size: 30px;\">Encoding</h1></td>\n",
    "    <td style=\"text-align: right;\"><img src=\"https://upload.wikimedia.org/wikipedia/commons/e/e6/Logo_Universitat_de_Barcelona.png\" alt=\"University of Barcelona Logo\" width=\"200\" /></td>\n",
    "  </tr>\n",
    "</table>"
   ]
  },
  {
   "cell_type": "markdown",
   "id": "a0e16146",
   "metadata": {},
   "source": [
    "# Introduction to One-Hot Encoding"
   ]
  },
  {
   "cell_type": "markdown",
   "id": "215f1edd",
   "metadata": {},
   "source": [
    "In the field of machine learning, data often comes in various forms, including both numerical and categorical data. While many machine learning algorithms are designed to work with numerical data, categorical data poses a challenge. One common technique used to handle categorical data is \"One-Hot Encoding.\"\n",
    "\n",
    "**One-Hot Encoding** is a method of converting categorical data into a binary format, making it suitable for machine learning algorithms that require numerical input. This technique transforms each category within a categorical feature into a separate binary feature or column. Each new column represents the presence or absence of a specific category, taking the value 1 (True) or 0 (False) accordingly.\n",
    "\n",
    "## Why One-Hot Encoding?\n",
    "\n",
    "Machine learning models, such as regression or neural networks, work with mathematical equations and require numerical input. Categorical data, such as \"colors\" or \"city names,\" cannot be directly used as-is in these models. One-Hot Encoding helps in the following ways:\n",
    "\n",
    "1. **Preserving Categorical Information:** One-Hot Encoding retains the categorical information while representing it in a format that machine learning algorithms can process.\n",
    "\n",
    "2. **Avoiding Ordinal Confusion:** Unlike label encoding, where categories are assigned numeric values, One-Hot Encoding avoids introducing a false ordinal relationship between categories. Each category is treated independently.\n",
    "\n",
    "3. **Enhancing Model Performance:** Many machine learning algorithms perform better when presented with one-hot encoded categorical features, as they can capture the relationships between categories more effectively.\n",
    "\n",
    "## How One-Hot Encoding Works\n",
    "\n",
    "The One-Hot Encoding process involves the following steps:\n",
    "\n",
    "1. **Identification of Categorical Columns:** Identify which columns in your dataset contain categorical data that needs to be encoded.\n",
    "\n",
    "2. **Creation of Binary Columns:** For each unique category within a categorical column, create a new binary column. Each binary column corresponds to one category.\n",
    "\n",
    "3. **Assignment of Binary Values:** Assign a value of 1 (True) to the binary column that corresponds to the category present in the original data, and 0 (False) to all other binary columns.\n",
    "\n",
    "4. **Repeat for Each Categorical Column:** Perform these steps for all the categorical columns you want to encode.\n",
    "\n",
    "In this notebook, we will perform One-Hot Encoding using Python and the pandas library. This technique will enable us to convert categorical data into a numerical format suitable for machine learning tasks. In this case we are going to encode the variables \"neighbourhood_cleansed\", \"neighbourhood_group_cleansed\" and \"amenities\". \n",
    "After that, PCA will be performed to reduce the database.\n",
    "\n",
    "Let's get started!"
   ]
  },
  {
   "cell_type": "code",
   "execution_count": 4,
   "id": "bba9e642",
   "metadata": {
    "ExecuteTime": {
     "end_time": "2024-01-07T11:55:26.281347Z",
     "start_time": "2024-01-07T11:55:26.138021Z"
    }
   },
   "outputs": [],
   "source": [
    "# basic initialization code\n",
    "\n",
    "import pandas as pd\n",
    "import numpy as np\n",
    "from rich import print\n",
    "import ast                     # To transform a string into an array\n",
    "import re\n",
    "\n",
    "filtered_insight = pd.read_csv('bdd_barcelona/processed/Test-1/processed_listings.csv')"
   ]
  },
  {
   "cell_type": "markdown",
   "id": "97cc0f39",
   "metadata": {},
   "source": [
    "### Encode Neighbourhoods"
   ]
  },
  {
   "cell_type": "code",
   "execution_count": 2,
   "id": "096c055d",
   "metadata": {
    "ExecuteTime": {
     "end_time": "2024-01-07T11:47:42.988387Z",
     "start_time": "2024-01-07T11:47:42.879890Z"
    }
   },
   "outputs": [
    {
     "data": {
      "text/html": [
       "<pre style=\"white-space:pre;overflow-x:auto;line-height:normal;font-family:Menlo,'DejaVu Sans Mono',consolas,'Courier New',monospace\">The amound of unique neighbourhood groups is: <span style=\"color: #008080; text-decoration-color: #008080; font-weight: bold\">10</span>\n",
       "</pre>\n"
      ],
      "text/plain": [
       "The amound of unique neighbourhood groups is: \u001b[1;36m10\u001b[0m\n"
      ]
     },
     "metadata": {},
     "output_type": "display_data"
    },
    {
     "data": {
      "text/html": [
       "<pre style=\"white-space:pre;overflow-x:auto;line-height:normal;font-family:Menlo,'DejaVu Sans Mono',consolas,'Courier New',monospace\">The amound of unique neighbourhood cleansed is: <span style=\"color: #008080; text-decoration-color: #008080; font-weight: bold\">63</span>\n",
       "</pre>\n"
      ],
      "text/plain": [
       "The amound of unique neighbourhood cleansed is: \u001b[1;36m63\u001b[0m\n"
      ]
     },
     "metadata": {},
     "output_type": "display_data"
    },
    {
     "data": {
      "text/html": [
       "<pre style=\"white-space:pre;overflow-x:auto;line-height:normal;font-family:Menlo,'DejaVu Sans Mono',consolas,'Courier New',monospace\">Having seen this, we will only use the groups and not cleansed\n",
       "</pre>\n"
      ],
      "text/plain": [
       "Having seen this, we will only use the groups and not cleansed\n"
      ]
     },
     "metadata": {},
     "output_type": "display_data"
    }
   ],
   "source": [
    "unique_neighbourhood_group = filtered_insight['neighbourhood_group_cleansed'].unique()\n",
    "unique_neighbourhood = filtered_insight['neighbourhood_cleansed'].unique()\n",
    "print(f\"The amound of unique neighbourhood groups is: {len(unique_neighbourhood_group)}\")\n",
    "print(f\"The amound of unique neighbourhood cleansed is: {len(unique_neighbourhood)}\")\n",
    "print(\"Having seen this, we will only use the groups and not cleansed\")"
   ]
  },
  {
   "cell_type": "code",
   "execution_count": 3,
   "id": "a704a524",
   "metadata": {
    "ExecuteTime": {
     "end_time": "2024-01-07T11:47:45.013971Z",
     "start_time": "2024-01-07T11:47:43.811310Z"
    }
   },
   "outputs": [
    {
     "data": {
      "text/html": [
       "<div>\n",
       "<style scoped>\n",
       "    .dataframe tbody tr th:only-of-type {\n",
       "        vertical-align: middle;\n",
       "    }\n",
       "\n",
       "    .dataframe tbody tr th {\n",
       "        vertical-align: top;\n",
       "    }\n",
       "\n",
       "    .dataframe thead th {\n",
       "        text-align: right;\n",
       "    }\n",
       "</style>\n",
       "<table border=\"1\" class=\"dataframe\">\n",
       "  <thead>\n",
       "    <tr style=\"text-align: right;\">\n",
       "      <th></th>\n",
       "      <th>Unnamed: 0</th>\n",
       "      <th>id</th>\n",
       "      <th>listing_url</th>\n",
       "      <th>scrape_id</th>\n",
       "      <th>last_scraped</th>\n",
       "      <th>source</th>\n",
       "      <th>name</th>\n",
       "      <th>description</th>\n",
       "      <th>neighborhood_overview</th>\n",
       "      <th>picture_url</th>\n",
       "      <th>...</th>\n",
       "      <th>Ciutat Vella</th>\n",
       "      <th>Eixample</th>\n",
       "      <th>Gràcia</th>\n",
       "      <th>Horta-Guinardó</th>\n",
       "      <th>Les Corts</th>\n",
       "      <th>Nou Barris</th>\n",
       "      <th>Sant Andreu</th>\n",
       "      <th>Sant Martí</th>\n",
       "      <th>Sants-Montjuïc</th>\n",
       "      <th>Sarrià-Sant Gervasi</th>\n",
       "    </tr>\n",
       "  </thead>\n",
       "  <tbody>\n",
       "    <tr>\n",
       "      <th>0</th>\n",
       "      <td>5</td>\n",
       "      <td>34981</td>\n",
       "      <td>https://www.airbnb.com/rooms/34981</td>\n",
       "      <td>20230610001920</td>\n",
       "      <td>2023-06-10</td>\n",
       "      <td>city scrape</td>\n",
       "      <td>Rental unit in Barcelona · ★4.52 · 4 bedrooms ...</td>\n",
       "      <td>Spacious apartment for large families or group...</td>\n",
       "      <td>Located in Ciutat Vella in the Gothic Quarter,...</td>\n",
       "      <td>https://a0.muscache.com/pictures/c4d1723c-e479...</td>\n",
       "      <td>...</td>\n",
       "      <td>1.0</td>\n",
       "      <td>0.0</td>\n",
       "      <td>0.0</td>\n",
       "      <td>0.0</td>\n",
       "      <td>0.0</td>\n",
       "      <td>0.0</td>\n",
       "      <td>0.0</td>\n",
       "      <td>0.0</td>\n",
       "      <td>0.0</td>\n",
       "      <td>0.0</td>\n",
       "    </tr>\n",
       "  </tbody>\n",
       "</table>\n",
       "<p>1 rows × 85 columns</p>\n",
       "</div>"
      ],
      "text/plain": [
       "   Unnamed: 0     id                         listing_url       scrape_id  \\\n",
       "0           5  34981  https://www.airbnb.com/rooms/34981  20230610001920   \n",
       "\n",
       "  last_scraped       source  \\\n",
       "0   2023-06-10  city scrape   \n",
       "\n",
       "                                                name  \\\n",
       "0  Rental unit in Barcelona · ★4.52 · 4 bedrooms ...   \n",
       "\n",
       "                                         description  \\\n",
       "0  Spacious apartment for large families or group...   \n",
       "\n",
       "                               neighborhood_overview  \\\n",
       "0  Located in Ciutat Vella in the Gothic Quarter,...   \n",
       "\n",
       "                                         picture_url  ...  Ciutat Vella  \\\n",
       "0  https://a0.muscache.com/pictures/c4d1723c-e479...  ...           1.0   \n",
       "\n",
       "  Eixample Gràcia Horta-Guinardó Les Corts Nou Barris Sant Andreu Sant Martí  \\\n",
       "0      0.0    0.0            0.0       0.0        0.0         0.0        0.0   \n",
       "\n",
       "  Sants-Montjuïc Sarrià-Sant Gervasi  \n",
       "0            0.0                 0.0  \n",
       "\n",
       "[1 rows x 85 columns]"
      ]
     },
     "metadata": {},
     "output_type": "display_data"
    }
   ],
   "source": [
    "# One Hot Encoding using sklearn.preprocessing\n",
    "\n",
    "from sklearn.preprocessing import OneHotEncoder\n",
    "\n",
    "filtered_insight_OHE = filtered_insight.copy()\n",
    "\n",
    "neighbourhood_encoder = OneHotEncoder()\n",
    "nei_groups_1hot = neighbourhood_encoder.fit_transform(filtered_insight_OHE[['neighbourhood_group_cleansed']])\n",
    "\n",
    "# OneHotEncoder returns by default a sparse matrix instead of a Numpy array, therefore we have to use the .toarray() method to get the desired columns\n",
    "nei_groups_1hot_real = nei_groups_1hot.toarray()\n",
    "column_names = neighbourhood_encoder.categories_\n",
    "for i in range(len(column_names)):\n",
    "    filtered_insight_OHE[column_names[i]] = nei_groups_1hot_real[i]\n",
    "filtered_insight_OHE.drop('neighbourhood_group_cleansed', axis = 1, inplace = True)\n",
    "display(filtered_insight_OHE.head(1))\n"
   ]
  },
  {
   "cell_type": "markdown",
   "id": "ed6fcb4f",
   "metadata": {},
   "source": [
    "### Encode amenities"
   ]
  },
  {
   "cell_type": "markdown",
   "id": "fc7ec8a0",
   "metadata": {},
   "source": [
    "#### Reduce searchable amenities"
   ]
  },
  {
   "cell_type": "code",
   "execution_count": 14,
   "id": "570e5909",
   "metadata": {
    "ExecuteTime": {
     "end_time": "2024-01-06T00:46:39.581363Z",
     "start_time": "2024-01-06T00:46:39.321304Z"
    }
   },
   "outputs": [
    {
     "data": {
      "text/html": [
       "<pre style=\"white-space:pre;overflow-x:auto;line-height:normal;font-family:Menlo,'DejaVu Sans Mono',consolas,'Courier New',monospace\">The longitude of distinct amenities is: <span style=\"color: #008080; text-decoration-color: #008080; font-weight: bold\">1044</span>, therefore, we have to keep working on it to make it viable.\n",
       "</pre>\n"
      ],
      "text/plain": [
       "The longitude of distinct amenities is: \u001b[1;36m1044\u001b[0m, therefore, we have to keep working on it to make it viable.\n"
      ]
     },
     "metadata": {},
     "output_type": "display_data"
    },
    {
     "data": {
      "text/html": [
       "<pre style=\"white-space:pre;overflow-x:auto;line-height:normal;font-family:Menlo,'DejaVu Sans Mono',consolas,'Courier New',monospace\">Len after compressing wifi containing words: <span style=\"color: #008080; text-decoration-color: #008080; font-weight: bold\">877</span>\n",
       "</pre>\n"
      ],
      "text/plain": [
       "Len after compressing wifi containing words: \u001b[1;36m877\u001b[0m\n"
      ]
     },
     "metadata": {},
     "output_type": "display_data"
    },
    {
     "data": {
      "text/html": [
       "<pre style=\"white-space:pre;overflow-x:auto;line-height:normal;font-family:Menlo,'DejaVu Sans Mono',consolas,'Courier New',monospace\">Len after compressing HDTV containing words: <span style=\"color: #008080; text-decoration-color: #008080; font-weight: bold\">614</span>\n",
       "</pre>\n"
      ],
      "text/plain": [
       "Len after compressing HDTV containing words: \u001b[1;36m614\u001b[0m\n"
      ]
     },
     "metadata": {},
     "output_type": "display_data"
    },
    {
     "data": {
      "text/html": [
       "<pre style=\"white-space:pre;overflow-x:auto;line-height:normal;font-family:Menlo,'DejaVu Sans Mono',consolas,'Courier New',monospace\">Len after compressing variouse containing words: <span style=\"color: #008080; text-decoration-color: #008080; font-weight: bold\">137</span>\n",
       "</pre>\n"
      ],
      "text/plain": [
       "Len after compressing variouse containing words: \u001b[1;36m137\u001b[0m\n"
      ]
     },
     "metadata": {},
     "output_type": "display_data"
    },
    {
     "data": {
      "text/html": [
       "<pre style=\"white-space:pre;overflow-x:auto;line-height:normal;font-family:Menlo,'DejaVu Sans Mono',consolas,'Courier New',monospace\">The list of amenities to be one-hot encoded will be:\n",
       "<span style=\"font-weight: bold\">[</span><span style=\"color: #008000; text-decoration-color: #008000\">'AC - split type ductless system'</span>, <span style=\"color: #008000; text-decoration-color: #008000\">'Air conditioning'</span>, <span style=\"color: #008000; text-decoration-color: #008000\">'Baby'</span>, <span style=\"color: #008000; text-decoration-color: #008000\">'Baking sheet'</span>, <span style=\"color: #008000; text-decoration-color: #008000\">'Barbecue utensils'</span>, <span style=\"color: #008000; text-decoration-color: #008000\">'Bathtub'</span>, \n",
       "<span style=\"color: #008000; text-decoration-color: #008000\">'Bay view'</span>, <span style=\"color: #008000; text-decoration-color: #008000\">'Bed linens'</span>, <span style=\"color: #008000; text-decoration-color: #008000\">'Bidet'</span>, <span style=\"color: #008000; text-decoration-color: #008000\">'Bikes'</span>, <span style=\"color: #008000; text-decoration-color: #008000\">'Blender'</span>, <span style=\"color: #008000; text-decoration-color: #008000\">'Board games'</span>, <span style=\"color: #008000; text-decoration-color: #008000\">'Bread maker'</span>, <span style=\"color: #008000; text-decoration-color: #008000\">'Breakfast'</span>, <span style=\"color: #008000; text-decoration-color: #008000\">'Building staff'</span>,\n",
       "<span style=\"color: #008000; text-decoration-color: #008000\">'Canal view'</span>, <span style=\"color: #008000; text-decoration-color: #008000\">'Carbon monoxide alarm'</span>, <span style=\"color: #008000; text-decoration-color: #008000\">'Ceiling fan'</span>, <span style=\"color: #008000; text-decoration-color: #008000\">'Central air conditioning'</span>, <span style=\"color: #008000; text-decoration-color: #008000\">'Central heating'</span>, <span style=\"color: #008000; text-decoration-color: #008000\">'Changing </span>\n",
       "<span style=\"color: #008000; text-decoration-color: #008000\">table'</span>, <span style=\"color: #008000; text-decoration-color: #008000\">'Children’s dinnerware'</span>, <span style=\"color: #008000; text-decoration-color: #008000\">'City skyline view'</span>, <span style=\"color: #008000; text-decoration-color: #008000\">'Cleaning available during stay'</span>, <span style=\"color: #008000; text-decoration-color: #008000\">'Cleaning products'</span>, \n",
       "<span style=\"color: #008000; text-decoration-color: #008000\">'Cooking basics'</span>, <span style=\"color: #008000; text-decoration-color: #008000\">'Courtyard view'</span>, <span style=\"color: #008000; text-decoration-color: #008000\">'Dedicated workspace'</span>, <span style=\"color: #008000; text-decoration-color: #008000\">'Dining table'</span>, <span style=\"color: #008000; text-decoration-color: #008000\">'Dishes and silverware'</span>, <span style=\"color: #008000; text-decoration-color: #008000\">'EV charger'</span>, \n",
       "<span style=\"color: #008000; text-decoration-color: #008000\">'Elevator'</span>, <span style=\"color: #008000; text-decoration-color: #008000\">'Essentials'</span>, <span style=\"color: #008000; text-decoration-color: #008000\">'Ethernet connection'</span>, <span style=\"color: #008000; text-decoration-color: #008000\">'Extra pillows and blankets'</span>, <span style=\"color: #008000; text-decoration-color: #008000\">'Fire extinguisher'</span>, <span style=\"color: #008000; text-decoration-color: #008000\">'Fire pit'</span>, \n",
       "<span style=\"color: #008000; text-decoration-color: #008000\">'First aid kit'</span>, <span style=\"color: #008000; text-decoration-color: #008000\">'Free carport on premises – 1 space'</span>, <span style=\"color: #008000; text-decoration-color: #008000\">'Free resort access'</span>, <span style=\"color: #008000; text-decoration-color: #008000\">'Freezer'</span>, <span style=\"color: #008000; text-decoration-color: #008000\">'Garden view'</span>, <span style=\"color: #008000; text-decoration-color: #008000\">'Hammock'</span>, \n",
       "<span style=\"color: #008000; text-decoration-color: #008000\">'Hangers'</span>, <span style=\"color: #008000; text-decoration-color: #008000\">'Harbor view'</span>, <span style=\"color: #008000; text-decoration-color: #008000\">'Heating'</span>, <span style=\"color: #008000; text-decoration-color: #008000\">'Heating - split type ductless system'</span>, <span style=\"color: #008000; text-decoration-color: #008000\">'Host greets you'</span>, <span style=\"color: #008000; text-decoration-color: #008000\">'Hot water'</span>, <span style=\"color: #008000; text-decoration-color: #008000\">'Hot </span>\n",
       "<span style=\"color: #008000; text-decoration-color: #008000\">water kettle'</span>, <span style=\"color: #008000; text-decoration-color: #008000\">'Iron'</span>, <span style=\"color: #008000; text-decoration-color: #008000\">'Kayak'</span>, <span style=\"color: #008000; text-decoration-color: #008000\">'Keypad'</span>, <span style=\"color: #008000; text-decoration-color: #008000\">'Kitchen'</span>, <span style=\"color: #008000; text-decoration-color: #008000\">'Lake access'</span>, <span style=\"color: #008000; text-decoration-color: #008000\">'Lake view'</span>, <span style=\"color: #008000; text-decoration-color: #008000\">'Laundromat nearby'</span>, <span style=\"color: #008000; text-decoration-color: #008000\">'Lock on </span>\n",
       "<span style=\"color: #008000; text-decoration-color: #008000\">bedroom door'</span>, <span style=\"color: #008000; text-decoration-color: #008000\">'Lockbox'</span>, <span style=\"color: #008000; text-decoration-color: #008000\">'Long term stays allowed'</span>, <span style=\"color: #008000; text-decoration-color: #008000\">'Luggage dropoff allowed'</span>, <span style=\"color: #008000; text-decoration-color: #008000\">'Marina view'</span>, <span style=\"color: #008000; text-decoration-color: #008000\">'Microwave'</span>, <span style=\"color: #008000; text-decoration-color: #008000\">'Mini </span>\n",
       "<span style=\"color: #008000; text-decoration-color: #008000\">fridge'</span>, <span style=\"color: #008000; text-decoration-color: #008000\">'Mosquito net'</span>, <span style=\"color: #008000; text-decoration-color: #008000\">'Mountain view'</span>, <span style=\"color: #008000; text-decoration-color: #008000\">'Ocean view'</span>, <span style=\"color: #008000; text-decoration-color: #008000\">'Outdoor dining area'</span>, <span style=\"color: #008000; text-decoration-color: #008000\">'Outdoor furniture'</span>, <span style=\"color: #008000; text-decoration-color: #008000\">'Outdoor </span>\n",
       "<span style=\"color: #008000; text-decoration-color: #008000\">kitchen'</span>, <span style=\"color: #008000; text-decoration-color: #008000\">'Outdoor shower'</span>, <span style=\"color: #008000; text-decoration-color: #008000\">'Outlet covers'</span>, <span style=\"color: #008000; text-decoration-color: #008000\">'Paid resort access'</span>, <span style=\"color: #008000; text-decoration-color: #008000\">'Park view'</span>, <span style=\"color: #008000; text-decoration-color: #008000\">'Patio or balcony'</span>, <span style=\"color: #008000; text-decoration-color: #008000\">'Pets allowed'</span>,\n",
       "<span style=\"color: #008000; text-decoration-color: #008000\">'Piano'</span>, <span style=\"color: #008000; text-decoration-color: #008000\">'Ping pong table'</span>, <span style=\"color: #008000; text-decoration-color: #008000\">'Portable air conditioning'</span>, <span style=\"color: #008000; text-decoration-color: #008000\">'Portable fans'</span>, <span style=\"color: #008000; text-decoration-color: #008000\">'Portable heater'</span>, <span style=\"color: #008000; text-decoration-color: #008000\">'Private entrance'</span>, \n",
       "<span style=\"color: #008000; text-decoration-color: #008000\">'Private living room'</span>, <span style=\"color: #008000; text-decoration-color: #008000\">'Private outdoor kitchen'</span>, <span style=\"color: #008000; text-decoration-color: #008000\">'Private patio or balcony'</span>, <span style=\"color: #008000; text-decoration-color: #008000\">'Private sauna'</span>, <span style=\"color: #008000; text-decoration-color: #008000\">'Radiant heating'</span>, \n",
       "<span style=\"color: #008000; text-decoration-color: #008000\">'Record player'</span>, <span style=\"color: #008000; text-decoration-color: #008000\">'Resort access'</span>, <span style=\"color: #008000; text-decoration-color: #008000\">'Resort view'</span>, <span style=\"color: #008000; text-decoration-color: #008000\">'Rice maker'</span>, <span style=\"color: #008000; text-decoration-color: #008000\">'Room-darkening shades'</span>, <span style=\"color: #008000; text-decoration-color: #008000\">'Safe'</span>, <span style=\"color: #008000; text-decoration-color: #008000\">'Sauna'</span>, <span style=\"color: #008000; text-decoration-color: #008000\">'Sea </span>\n",
       "<span style=\"color: #008000; text-decoration-color: #008000\">view'</span>, <span style=\"color: #008000; text-decoration-color: #008000\">'Security cameras on property'</span>, <span style=\"color: #008000; text-decoration-color: #008000\">'Self check-in'</span>, <span style=\"color: #008000; text-decoration-color: #008000\">'Shared patio or balcony'</span>, <span style=\"color: #008000; text-decoration-color: #008000\">'Shower gel'</span>, <span style=\"color: #008000; text-decoration-color: #008000\">'Single level </span>\n",
       "<span style=\"color: #008000; text-decoration-color: #008000\">home'</span>, <span style=\"color: #008000; text-decoration-color: #008000\">'Ski-in/Ski-out'</span>, <span style=\"color: #008000; text-decoration-color: #008000\">'Smart lock'</span>, <span style=\"color: #008000; text-decoration-color: #008000\">'Smoke alarm'</span>, <span style=\"color: #008000; text-decoration-color: #008000\">'Smoking allowed'</span>, <span style=\"color: #008000; text-decoration-color: #008000\">'Sun loungers'</span>, <span style=\"color: #008000; text-decoration-color: #008000\">'TV'</span>, <span style=\"color: #008000; text-decoration-color: #008000\">'Table corner </span>\n",
       "<span style=\"color: #008000; text-decoration-color: #008000\">guards'</span>, <span style=\"color: #008000; text-decoration-color: #008000\">'Toaster'</span>, <span style=\"color: #008000; text-decoration-color: #008000\">'Trash compactor'</span>, <span style=\"color: #008000; text-decoration-color: #008000\">'Valley view'</span>, <span style=\"color: #008000; text-decoration-color: #008000\">'Waterfront'</span>, <span style=\"color: #008000; text-decoration-color: #008000\">'Window AC unit'</span>, <span style=\"color: #008000; text-decoration-color: #008000\">'Window guards'</span>, <span style=\"color: #008000; text-decoration-color: #008000\">'Wine </span>\n",
       "<span style=\"color: #008000; text-decoration-color: #008000\">glasses'</span>, <span style=\"color: #008000; text-decoration-color: #008000\">'backyard'</span>, <span style=\"color: #008000; text-decoration-color: #008000\">'beach'</span>, <span style=\"color: #008000; text-decoration-color: #008000\">'books'</span>, <span style=\"color: #008000; text-decoration-color: #008000\">'clothing'</span>, <span style=\"color: #008000; text-decoration-color: #008000\">'cofee'</span>, <span style=\"color: #008000; text-decoration-color: #008000\">'conditioner'</span>, <span style=\"color: #008000; text-decoration-color: #008000\">'console'</span>, <span style=\"color: #008000; text-decoration-color: #008000\">'crib'</span>, <span style=\"color: #008000; text-decoration-color: #008000\">'dryer'</span>, \n",
       "<span style=\"color: #008000; text-decoration-color: #008000\">'fireplace'</span>, <span style=\"color: #008000; text-decoration-color: #008000\">'grill'</span>, <span style=\"color: #008000; text-decoration-color: #008000\">'gym'</span>, <span style=\"color: #008000; text-decoration-color: #008000\">'hot tub'</span>, <span style=\"color: #008000; text-decoration-color: #008000\">'oven'</span>, <span style=\"color: #008000; text-decoration-color: #008000\">'parking'</span>, <span style=\"color: #008000; text-decoration-color: #008000\">'pool'</span>, <span style=\"color: #008000; text-decoration-color: #008000\">'refrigerator'</span>, <span style=\"color: #008000; text-decoration-color: #008000\">'shampoo'</span>, <span style=\"color: #008000; text-decoration-color: #008000\">'soap'</span>, <span style=\"color: #008000; text-decoration-color: #008000\">'sound'</span>, \n",
       "<span style=\"color: #008000; text-decoration-color: #008000\">'stove'</span>, <span style=\"color: #008000; text-decoration-color: #008000\">'washer'</span>, <span style=\"color: #008000; text-decoration-color: #008000\">'wifi'</span><span style=\"font-weight: bold\">]</span>\n",
       "</pre>\n"
      ],
      "text/plain": [
       "The list of amenities to be one-hot encoded will be:\n",
       "\u001b[1m[\u001b[0m\u001b[32m'AC - split type ductless system'\u001b[0m, \u001b[32m'Air conditioning'\u001b[0m, \u001b[32m'Baby'\u001b[0m, \u001b[32m'Baking sheet'\u001b[0m, \u001b[32m'Barbecue utensils'\u001b[0m, \u001b[32m'Bathtub'\u001b[0m, \n",
       "\u001b[32m'Bay view'\u001b[0m, \u001b[32m'Bed linens'\u001b[0m, \u001b[32m'Bidet'\u001b[0m, \u001b[32m'Bikes'\u001b[0m, \u001b[32m'Blender'\u001b[0m, \u001b[32m'Board games'\u001b[0m, \u001b[32m'Bread maker'\u001b[0m, \u001b[32m'Breakfast'\u001b[0m, \u001b[32m'Building staff'\u001b[0m,\n",
       "\u001b[32m'Canal view'\u001b[0m, \u001b[32m'Carbon monoxide alarm'\u001b[0m, \u001b[32m'Ceiling fan'\u001b[0m, \u001b[32m'Central air conditioning'\u001b[0m, \u001b[32m'Central heating'\u001b[0m, \u001b[32m'Changing \u001b[0m\n",
       "\u001b[32mtable'\u001b[0m, \u001b[32m'Children’s dinnerware'\u001b[0m, \u001b[32m'City skyline view'\u001b[0m, \u001b[32m'Cleaning available during stay'\u001b[0m, \u001b[32m'Cleaning products'\u001b[0m, \n",
       "\u001b[32m'Cooking basics'\u001b[0m, \u001b[32m'Courtyard view'\u001b[0m, \u001b[32m'Dedicated workspace'\u001b[0m, \u001b[32m'Dining table'\u001b[0m, \u001b[32m'Dishes and silverware'\u001b[0m, \u001b[32m'EV charger'\u001b[0m, \n",
       "\u001b[32m'Elevator'\u001b[0m, \u001b[32m'Essentials'\u001b[0m, \u001b[32m'Ethernet connection'\u001b[0m, \u001b[32m'Extra pillows and blankets'\u001b[0m, \u001b[32m'Fire extinguisher'\u001b[0m, \u001b[32m'Fire pit'\u001b[0m, \n",
       "\u001b[32m'First aid kit'\u001b[0m, \u001b[32m'Free carport on premises – 1 space'\u001b[0m, \u001b[32m'Free resort access'\u001b[0m, \u001b[32m'Freezer'\u001b[0m, \u001b[32m'Garden view'\u001b[0m, \u001b[32m'Hammock'\u001b[0m, \n",
       "\u001b[32m'Hangers'\u001b[0m, \u001b[32m'Harbor view'\u001b[0m, \u001b[32m'Heating'\u001b[0m, \u001b[32m'Heating - split type ductless system'\u001b[0m, \u001b[32m'Host greets you'\u001b[0m, \u001b[32m'Hot water'\u001b[0m, \u001b[32m'Hot \u001b[0m\n",
       "\u001b[32mwater kettle'\u001b[0m, \u001b[32m'Iron'\u001b[0m, \u001b[32m'Kayak'\u001b[0m, \u001b[32m'Keypad'\u001b[0m, \u001b[32m'Kitchen'\u001b[0m, \u001b[32m'Lake access'\u001b[0m, \u001b[32m'Lake view'\u001b[0m, \u001b[32m'Laundromat nearby'\u001b[0m, \u001b[32m'Lock on \u001b[0m\n",
       "\u001b[32mbedroom door'\u001b[0m, \u001b[32m'Lockbox'\u001b[0m, \u001b[32m'Long term stays allowed'\u001b[0m, \u001b[32m'Luggage dropoff allowed'\u001b[0m, \u001b[32m'Marina view'\u001b[0m, \u001b[32m'Microwave'\u001b[0m, \u001b[32m'Mini \u001b[0m\n",
       "\u001b[32mfridge'\u001b[0m, \u001b[32m'Mosquito net'\u001b[0m, \u001b[32m'Mountain view'\u001b[0m, \u001b[32m'Ocean view'\u001b[0m, \u001b[32m'Outdoor dining area'\u001b[0m, \u001b[32m'Outdoor furniture'\u001b[0m, \u001b[32m'Outdoor \u001b[0m\n",
       "\u001b[32mkitchen'\u001b[0m, \u001b[32m'Outdoor shower'\u001b[0m, \u001b[32m'Outlet covers'\u001b[0m, \u001b[32m'Paid resort access'\u001b[0m, \u001b[32m'Park view'\u001b[0m, \u001b[32m'Patio or balcony'\u001b[0m, \u001b[32m'Pets allowed'\u001b[0m,\n",
       "\u001b[32m'Piano'\u001b[0m, \u001b[32m'Ping pong table'\u001b[0m, \u001b[32m'Portable air conditioning'\u001b[0m, \u001b[32m'Portable fans'\u001b[0m, \u001b[32m'Portable heater'\u001b[0m, \u001b[32m'Private entrance'\u001b[0m, \n",
       "\u001b[32m'Private living room'\u001b[0m, \u001b[32m'Private outdoor kitchen'\u001b[0m, \u001b[32m'Private patio or balcony'\u001b[0m, \u001b[32m'Private sauna'\u001b[0m, \u001b[32m'Radiant heating'\u001b[0m, \n",
       "\u001b[32m'Record player'\u001b[0m, \u001b[32m'Resort access'\u001b[0m, \u001b[32m'Resort view'\u001b[0m, \u001b[32m'Rice maker'\u001b[0m, \u001b[32m'Room-darkening shades'\u001b[0m, \u001b[32m'Safe'\u001b[0m, \u001b[32m'Sauna'\u001b[0m, \u001b[32m'Sea \u001b[0m\n",
       "\u001b[32mview'\u001b[0m, \u001b[32m'Security cameras on property'\u001b[0m, \u001b[32m'Self check-in'\u001b[0m, \u001b[32m'Shared patio or balcony'\u001b[0m, \u001b[32m'Shower gel'\u001b[0m, \u001b[32m'Single level \u001b[0m\n",
       "\u001b[32mhome'\u001b[0m, \u001b[32m'Ski-in/Ski-out'\u001b[0m, \u001b[32m'Smart lock'\u001b[0m, \u001b[32m'Smoke alarm'\u001b[0m, \u001b[32m'Smoking allowed'\u001b[0m, \u001b[32m'Sun loungers'\u001b[0m, \u001b[32m'TV'\u001b[0m, \u001b[32m'Table corner \u001b[0m\n",
       "\u001b[32mguards'\u001b[0m, \u001b[32m'Toaster'\u001b[0m, \u001b[32m'Trash compactor'\u001b[0m, \u001b[32m'Valley view'\u001b[0m, \u001b[32m'Waterfront'\u001b[0m, \u001b[32m'Window AC unit'\u001b[0m, \u001b[32m'Window guards'\u001b[0m, \u001b[32m'Wine \u001b[0m\n",
       "\u001b[32mglasses'\u001b[0m, \u001b[32m'backyard'\u001b[0m, \u001b[32m'beach'\u001b[0m, \u001b[32m'books'\u001b[0m, \u001b[32m'clothing'\u001b[0m, \u001b[32m'cofee'\u001b[0m, \u001b[32m'conditioner'\u001b[0m, \u001b[32m'console'\u001b[0m, \u001b[32m'crib'\u001b[0m, \u001b[32m'dryer'\u001b[0m, \n",
       "\u001b[32m'fireplace'\u001b[0m, \u001b[32m'grill'\u001b[0m, \u001b[32m'gym'\u001b[0m, \u001b[32m'hot tub'\u001b[0m, \u001b[32m'oven'\u001b[0m, \u001b[32m'parking'\u001b[0m, \u001b[32m'pool'\u001b[0m, \u001b[32m'refrigerator'\u001b[0m, \u001b[32m'shampoo'\u001b[0m, \u001b[32m'soap'\u001b[0m, \u001b[32m'sound'\u001b[0m, \n",
       "\u001b[32m'stove'\u001b[0m, \u001b[32m'washer'\u001b[0m, \u001b[32m'wifi'\u001b[0m\u001b[1m]\u001b[0m\n"
      ]
     },
     "metadata": {},
     "output_type": "display_data"
    },
    {
     "data": {
      "text/html": [
       "<pre style=\"white-space:pre;overflow-x:auto;line-height:normal;font-family:Menlo,'DejaVu Sans Mono',consolas,'Courier New',monospace\">This are the new words that encapsule the <span style=\"color: #008080; text-decoration-color: #008080; font-weight: bold\">900</span> words that have been compressed: \n",
       "<span style=\"color: #800080; text-decoration-color: #800080; font-weight: bold\">dict_keys</span><span style=\"font-weight: bold\">([</span><span style=\"color: #008000; text-decoration-color: #008000\">'wifi'</span>, <span style=\"color: #008000; text-decoration-color: #008000\">'TV'</span>, <span style=\"color: #008000; text-decoration-color: #008000\">'shampoo'</span>, <span style=\"color: #008000; text-decoration-color: #008000\">'soap'</span>, <span style=\"color: #008000; text-decoration-color: #008000\">'parking'</span>, <span style=\"color: #008000; text-decoration-color: #008000\">'gym'</span>, <span style=\"color: #008000; text-decoration-color: #008000\">'stove'</span>, <span style=\"color: #008000; text-decoration-color: #008000\">'oven'</span>, <span style=\"color: #008000; text-decoration-color: #008000\">'cofee'</span>, <span style=\"color: #008000; text-decoration-color: #008000\">'refrigerator'</span>, <span style=\"color: #008000; text-decoration-color: #008000\">'books'</span>, \n",
       "<span style=\"color: #008000; text-decoration-color: #008000\">'pool'</span>, <span style=\"color: #008000; text-decoration-color: #008000\">'clothing'</span>, <span style=\"color: #008000; text-decoration-color: #008000\">'washer'</span>, <span style=\"color: #008000; text-decoration-color: #008000\">'conditioner'</span>, <span style=\"color: #008000; text-decoration-color: #008000\">'dryer'</span>, <span style=\"color: #008000; text-decoration-color: #008000\">'backyard'</span>, <span style=\"color: #008000; text-decoration-color: #008000\">'Baby'</span>, <span style=\"color: #008000; text-decoration-color: #008000\">'console'</span>, <span style=\"color: #008000; text-decoration-color: #008000\">'sound'</span>, <span style=\"color: #008000; text-decoration-color: #008000\">'crib'</span>, <span style=\"color: #008000; text-decoration-color: #008000\">'grill'</span>, \n",
       "<span style=\"color: #008000; text-decoration-color: #008000\">'fireplace'</span>, <span style=\"color: #008000; text-decoration-color: #008000\">'Shared hot tub'</span>, <span style=\"color: #008000; text-decoration-color: #008000\">'hot tub'</span>, <span style=\"color: #008000; text-decoration-color: #008000\">'beach'</span><span style=\"font-weight: bold\">])</span>\n",
       "</pre>\n"
      ],
      "text/plain": [
       "This are the new words that encapsule the \u001b[1;36m900\u001b[0m words that have been compressed: \n",
       "\u001b[1;35mdict_keys\u001b[0m\u001b[1m(\u001b[0m\u001b[1m[\u001b[0m\u001b[32m'wifi'\u001b[0m, \u001b[32m'TV'\u001b[0m, \u001b[32m'shampoo'\u001b[0m, \u001b[32m'soap'\u001b[0m, \u001b[32m'parking'\u001b[0m, \u001b[32m'gym'\u001b[0m, \u001b[32m'stove'\u001b[0m, \u001b[32m'oven'\u001b[0m, \u001b[32m'cofee'\u001b[0m, \u001b[32m'refrigerator'\u001b[0m, \u001b[32m'books'\u001b[0m, \n",
       "\u001b[32m'pool'\u001b[0m, \u001b[32m'clothing'\u001b[0m, \u001b[32m'washer'\u001b[0m, \u001b[32m'conditioner'\u001b[0m, \u001b[32m'dryer'\u001b[0m, \u001b[32m'backyard'\u001b[0m, \u001b[32m'Baby'\u001b[0m, \u001b[32m'console'\u001b[0m, \u001b[32m'sound'\u001b[0m, \u001b[32m'crib'\u001b[0m, \u001b[32m'grill'\u001b[0m, \n",
       "\u001b[32m'fireplace'\u001b[0m, \u001b[32m'Shared hot tub'\u001b[0m, \u001b[32m'hot tub'\u001b[0m, \u001b[32m'beach'\u001b[0m\u001b[1m]\u001b[0m\u001b[1m)\u001b[0m\n"
      ]
     },
     "metadata": {},
     "output_type": "display_data"
    },
    {
     "data": {
      "text/html": [
       "<pre style=\"white-space:pre;overflow-x:auto;line-height:normal;font-family:Menlo,'DejaVu Sans Mono',consolas,'Courier New',monospace\">Now that we have a short enough list, lets make the encode\n",
       "</pre>\n"
      ],
      "text/plain": [
       "Now that we have a short enough list, lets make the encode\n"
      ]
     },
     "metadata": {},
     "output_type": "display_data"
    }
   ],
   "source": [
    "# get all unique amenities\n",
    "all_amenities = []\n",
    "for sublist in filtered_insight['amenities']:\n",
    "    real_sublist = ast.literal_eval(sublist)\n",
    "    for word in real_sublist:\n",
    "        all_amenities.append(word)\n",
    "\n",
    "unique_amenities_list = sorted(set(all_amenities))\n",
    "#print(unique_amenities_list)\n",
    "print(f\"The longitude of distinct amenities is: {len(unique_amenities_list)}, therefore, we have to keep working on it to make it viable.\")\n",
    "\n",
    "# Reduce the amound of unique amenities ---------------------------------------\n",
    "\n",
    "encode_dict = {} # the results of this part will be saved here: a dictionary of key:\"new_word\", values:[\"array\",\"of\",\"strings\"]\n",
    "\n",
    "# Lets compress all words that contain wifi\n",
    "pattern = re.compile(r'wifi', re.IGNORECASE)\n",
    "wifi_list = [word for word in unique_amenities_list if pattern.search(word)]\n",
    "encode_dict[\"wifi\"] = wifi_list\n",
    "filtered_amenities_list = [amenity for amenity in unique_amenities_list if not pattern.search(amenity)]\n",
    "filtered_amenities_list.append(\"wifi\")\n",
    "print(f\"Len after compressing wifi containing words: {len(filtered_amenities_list)}\")\n",
    "\n",
    "# Lets compress all wirds that contain TV\n",
    "pattern = re.compile(r'TV', re.IGNORECASE)\n",
    "tv_list = [word for word in filtered_amenities_list if pattern.search(word)]\n",
    "encode_dict[\"TV\"] = tv_list\n",
    "filtered_amenities_list = [amenity for amenity in filtered_amenities_list if not pattern.search(amenity)]\n",
    "filtered_amenities_list.append(\"TV\")\n",
    "print(f\"Len after compressing HDTV containing words: {len(filtered_amenities_list)}\")\n",
    "\n",
    "# lets remove a varaiety of words to simplify\n",
    "\n",
    "pattern = re.compile(r'shampoo', re.IGNORECASE)\n",
    "variouse_list = [word for word in filtered_amenities_list if pattern.search(word)]\n",
    "filtered_amenities_list = [amenity for amenity in filtered_amenities_list if not pattern.search(amenity)]\n",
    "filtered_amenities_list.append(\"shampoo\")\n",
    "encode_dict[\"shampoo\"] = variouse_list\n",
    "\n",
    "pattern = re.compile(r'soap', re.IGNORECASE)\n",
    "variouse_list = [word for word in filtered_amenities_list if pattern.search(word)]\n",
    "filtered_amenities_list = [amenity for amenity in filtered_amenities_list if not pattern.search(amenity)]\n",
    "filtered_amenities_list.append(\"soap\")\n",
    "encode_dict[\"soap\"] = variouse_list\n",
    "\n",
    "pattern = re.compile(r'parking', re.IGNORECASE)\n",
    "variouse_list = [word for word in filtered_amenities_list if pattern.search(word)]\n",
    "filtered_amenities_list = [amenity for amenity in filtered_amenities_list if not pattern.search(amenity)]\n",
    "pattern = re.compile(r'garage', re.IGNORECASE)\n",
    "variouse_list.extend([word for word in filtered_amenities_list if pattern.search(word)])\n",
    "filtered_amenities_list = [amenity for amenity in filtered_amenities_list if not pattern.search(amenity)]\n",
    "\n",
    "filtered_amenities_list.append(\"parking\")\n",
    "encode_dict[\"parking\"] = variouse_list\n",
    "\n",
    "pattern = re.compile(r'exercise', re.IGNORECASE)\n",
    "variouse_list = [word for word in filtered_amenities_list if pattern.search(word)]\n",
    "filtered_amenities_list = [amenity for amenity in filtered_amenities_list if not pattern.search(amenity)]\n",
    "pattern = re.compile(r'gym', re.IGNORECASE)\n",
    "variouse_list.extend([word for word in filtered_amenities_list if pattern.search(word)])\n",
    "filtered_amenities_list = [amenity for amenity in filtered_amenities_list if not pattern.search(amenity)]\n",
    "\n",
    "filtered_amenities_list.append(\"gym\")\n",
    "encode_dict[\"gym\"] = variouse_list\n",
    "\n",
    "pattern = re.compile(r'stove', re.IGNORECASE)\n",
    "variouse_list = [word for word in filtered_amenities_list if pattern.search(word)]\n",
    "filtered_amenities_list = [amenity for amenity in filtered_amenities_list if not pattern.search(amenity)]\n",
    "filtered_amenities_list.append(\"stove\")\n",
    "encode_dict[\"stove\"] = variouse_list\n",
    "\n",
    "pattern = re.compile(r'oven', re.IGNORECASE)\n",
    "variouse_list = [word for word in filtered_amenities_list if pattern.search(word)]\n",
    "filtered_amenities_list = [amenity for amenity in filtered_amenities_list if not pattern.search(amenity)]\n",
    "filtered_amenities_list.append(\"oven\")\n",
    "encode_dict[\"oven\"] = variouse_list\n",
    "\n",
    "pattern = re.compile(r'coffee', re.IGNORECASE)\n",
    "variouse_list = [word for word in filtered_amenities_list if pattern.search(word)]\n",
    "filtered_amenities_list = [amenity for amenity in filtered_amenities_list if not pattern.search(amenity)]\n",
    "filtered_amenities_list.append(\"cofee\")\n",
    "encode_dict[\"cofee\"] = variouse_list\n",
    "\n",
    "pattern = re.compile(r'refrigerator', re.IGNORECASE)\n",
    "variouse_list = [word for word in filtered_amenities_list if pattern.search(word)]\n",
    "filtered_amenities_list = [amenity for amenity in filtered_amenities_list if not pattern.search(amenity)]\n",
    "filtered_amenities_list.append(\"refrigerator\")\n",
    "encode_dict[\"refrigerator\"] = variouse_list\n",
    "\n",
    "pattern = re.compile(r'books', re.IGNORECASE)\n",
    "variouse_list = [word for word in filtered_amenities_list if pattern.search(word)]\n",
    "filtered_amenities_list = [amenity for amenity in filtered_amenities_list if not pattern.search(amenity)]\n",
    "filtered_amenities_list.append(\"books\")\n",
    "encode_dict[\"books\"] = variouse_list\n",
    "\n",
    "pattern = re.compile(r'pool', re.IGNORECASE)\n",
    "variouse_list = [word for word in filtered_amenities_list if pattern.search(word)]\n",
    "filtered_amenities_list = [amenity for amenity in filtered_amenities_list if not pattern.search(amenity)]\n",
    "filtered_amenities_list.append(\"pool\")\n",
    "encode_dict[\"pool\"] = variouse_list\n",
    "\n",
    "pattern = re.compile(r'clothing', re.IGNORECASE)\n",
    "variouse_list = [word for word in filtered_amenities_list if pattern.search(word)]\n",
    "filtered_amenities_list = [amenity for amenity in filtered_amenities_list if not pattern.search(amenity)]\n",
    "filtered_amenities_list.append(\"clothing\") \n",
    "encode_dict[\"clothing\"] = variouse_list\n",
    "\n",
    "pattern = re.compile(r'Washer', re.IGNORECASE)\n",
    "variouse_list = [word for word in filtered_amenities_list if pattern.search(word)]\n",
    "filtered_amenities_list = [amenity for amenity in filtered_amenities_list if not pattern.search(amenity)]\n",
    "filtered_amenities_list.append(\"washer\")\n",
    "encode_dict[\"washer\"] = variouse_list\n",
    "\n",
    "pattern = re.compile(r'conditioner', re.IGNORECASE)\n",
    "variouse_list = [word for word in filtered_amenities_list if pattern.search(word)]\n",
    "filtered_amenities_list = [amenity for amenity in filtered_amenities_list if not pattern.search(amenity)]\n",
    "filtered_amenities_list.append(\"conditioner\")\n",
    "encode_dict[\"conditioner\"] = variouse_list\n",
    "\n",
    "pattern = re.compile(r'dryer', re.IGNORECASE)\n",
    "variouse_list = [word for word in filtered_amenities_list if pattern.search(word)]\n",
    "filtered_amenities_list = [amenity for amenity in filtered_amenities_list if not pattern.search(amenity)]\n",
    "filtered_amenities_list.append(\"dryer\")\n",
    "encode_dict[\"dryer\"] = variouse_list\n",
    "\n",
    "pattern = re.compile(r'backyard', re.IGNORECASE)\n",
    "variouse_list = [word for word in filtered_amenities_list if pattern.search(word)]\n",
    "filtered_amenities_list = [amenity for amenity in filtered_amenities_list if not pattern.search(amenity)]\n",
    "filtered_amenities_list.append(\"backyard\")\n",
    "encode_dict[\"backyard\"] = variouse_list\n",
    "\n",
    "pattern = re.compile(r'Baby', re.IGNORECASE)\n",
    "variouse_list = [word for word in filtered_amenities_list if pattern.search(word)]\n",
    "filtered_amenities_list = [amenity for amenity in filtered_amenities_list if not pattern.search(amenity)]\n",
    "filtered_amenities_list.append(\"Baby\")\n",
    "encode_dict[\"Baby\"] = variouse_list\n",
    "\n",
    "pattern = re.compile(r'console', re.IGNORECASE)\n",
    "variouse_list = [word for word in filtered_amenities_list if pattern.search(word)]\n",
    "filtered_amenities_list = [amenity for amenity in filtered_amenities_list if not pattern.search(amenity)]\n",
    "filtered_amenities_list.append(\"console\")\n",
    "encode_dict[\"console\"] = variouse_list\n",
    "\n",
    "pattern = re.compile(r'sound', re.IGNORECASE)\n",
    "variouse_list = [word for word in filtered_amenities_list if pattern.search(word)]\n",
    "filtered_amenities_list = [amenity for amenity in filtered_amenities_list if not pattern.search(amenity)]\n",
    "filtered_amenities_list.append(\"sound\")\n",
    "encode_dict[\"sound\"] = variouse_list\n",
    "\n",
    "pattern = re.compile(r'crib', re.IGNORECASE)\n",
    "variouse_list = [word for word in filtered_amenities_list if pattern.search(word)]\n",
    "filtered_amenities_list = [amenity for amenity in filtered_amenities_list if not pattern.search(amenity)]\n",
    "filtered_amenities_list.append(\"crib\")\n",
    "encode_dict[\"crib\"] = variouse_list\n",
    "\n",
    "pattern = re.compile(r'grill', re.IGNORECASE)\n",
    "variouse_list = [word for word in filtered_amenities_list if pattern.search(word)]\n",
    "filtered_amenities_list = [amenity for amenity in filtered_amenities_list if not pattern.search(amenity)]\n",
    "filtered_amenities_list.append(\"grill\")\n",
    "encode_dict[\"grill\"] = variouse_list\n",
    "\n",
    "pattern = re.compile(r'fireplace', re.IGNORECASE)\n",
    "variouse_list = [word for word in filtered_amenities_list if pattern.search(word)]\n",
    "filtered_amenities_list = [amenity for amenity in filtered_amenities_list if not pattern.search(amenity)]\n",
    "filtered_amenities_list.append(\"fireplace\")  \n",
    "encode_dict[\"fireplace\"] = variouse_list\n",
    "\n",
    "pattern = re.compile(r'Shared hot tub', re.IGNORECASE)\n",
    "variouse_list = [word for word in filtered_amenities_list if pattern.search(word)]\n",
    "filtered_amenities_list = [amenity for amenity in filtered_amenities_list if not pattern.search(amenity)]\n",
    "filtered_amenities_list.append(\"Shared hot tub\")\n",
    "encode_dict[\"Shared hot tub\"] = variouse_list\n",
    "\n",
    "pattern = re.compile(r'hot tub', re.IGNORECASE)\n",
    "variouse_list = [word for word in filtered_amenities_list if pattern.search(word)]\n",
    "filtered_amenities_list = [amenity for amenity in filtered_amenities_list if not pattern.search(amenity)]\n",
    "filtered_amenities_list.append(\"hot tub\")\n",
    "encode_dict[\"hot tub\"] = variouse_list\n",
    "\n",
    "pattern = re.compile(r'beach', re.IGNORECASE)\n",
    "variouse_list = [word for word in filtered_amenities_list if pattern.search(word)]\n",
    "filtered_amenities_list = [amenity for amenity in filtered_amenities_list if not pattern.search(amenity)]\n",
    "filtered_amenities_list.append(\"beach\")\n",
    "encode_dict[\"beach\"] = variouse_list\n",
    "\n",
    "pattern = re.compile(r'chair', re.IGNORECASE)\n",
    "filtered_amenities_list = [amenity for amenity in filtered_amenities_list if not pattern.search(amenity)]\n",
    "\n",
    "\n",
    "print(f\"Len after compressing variouse containing words: {len(filtered_amenities_list)}\")\n",
    "\n",
    "filtered_amenities_list.sort()\n",
    "print(f\"\"\"The list of amenities to be one-hot encoded will be:\n",
    "{filtered_amenities_list}\"\"\")\n",
    "print(f\"\"\"This are the new words that encapsule the 900 words that have been compressed: \n",
    "{encode_dict.keys()}\"\"\")\n",
    "print(\"Now that we have a short enough list, lets make the encode\")"
   ]
  },
  {
   "cell_type": "markdown",
   "id": "57e4f38c",
   "metadata": {},
   "source": [
    "#### Apply 1Hot encoder"
   ]
  },
  {
   "cell_type": "code",
   "execution_count": 15,
   "id": "9c9d7986",
   "metadata": {
    "ExecuteTime": {
     "end_time": "2024-01-06T00:46:45.403682Z",
     "start_time": "2024-01-06T00:46:40.315554Z"
    }
   },
   "outputs": [
    {
     "data": {
      "text/html": [
       "<div>\n",
       "<style scoped>\n",
       "    .dataframe tbody tr th:only-of-type {\n",
       "        vertical-align: middle;\n",
       "    }\n",
       "\n",
       "    .dataframe tbody tr th {\n",
       "        vertical-align: top;\n",
       "    }\n",
       "\n",
       "    .dataframe thead th {\n",
       "        text-align: right;\n",
       "    }\n",
       "</style>\n",
       "<table border=\"1\" class=\"dataframe\">\n",
       "  <thead>\n",
       "    <tr style=\"text-align: right;\">\n",
       "      <th></th>\n",
       "      <th>Unnamed: 0</th>\n",
       "      <th>id</th>\n",
       "      <th>listing_url</th>\n",
       "      <th>scrape_id</th>\n",
       "      <th>last_scraped</th>\n",
       "      <th>source</th>\n",
       "      <th>name</th>\n",
       "      <th>description</th>\n",
       "      <th>neighborhood_overview</th>\n",
       "      <th>picture_url</th>\n",
       "      <th>...</th>\n",
       "      <th>oven</th>\n",
       "      <th>parking</th>\n",
       "      <th>pool</th>\n",
       "      <th>refrigerator</th>\n",
       "      <th>shampoo</th>\n",
       "      <th>soap</th>\n",
       "      <th>sound</th>\n",
       "      <th>stove</th>\n",
       "      <th>washer</th>\n",
       "      <th>wifi</th>\n",
       "    </tr>\n",
       "  </thead>\n",
       "  <tbody>\n",
       "    <tr>\n",
       "      <th>0</th>\n",
       "      <td>5</td>\n",
       "      <td>34981</td>\n",
       "      <td>https://www.airbnb.com/rooms/34981</td>\n",
       "      <td>20230610001920</td>\n",
       "      <td>2023-06-10</td>\n",
       "      <td>city scrape</td>\n",
       "      <td>Rental unit in Barcelona · ★4.52 · 4 bedrooms ...</td>\n",
       "      <td>Spacious apartment for large families or group...</td>\n",
       "      <td>Located in Ciutat Vella in the Gothic Quarter,...</td>\n",
       "      <td>https://a0.muscache.com/pictures/c4d1723c-e479...</td>\n",
       "      <td>...</td>\n",
       "      <td>1.0</td>\n",
       "      <td>1.0</td>\n",
       "      <td>0.0</td>\n",
       "      <td>1.0</td>\n",
       "      <td>1.0</td>\n",
       "      <td>0.0</td>\n",
       "      <td>0.0</td>\n",
       "      <td>1.0</td>\n",
       "      <td>1.0</td>\n",
       "      <td>1.0</td>\n",
       "    </tr>\n",
       "  </tbody>\n",
       "</table>\n",
       "<p>1 rows × 222 columns</p>\n",
       "</div>"
      ],
      "text/plain": [
       "   Unnamed: 0     id                         listing_url       scrape_id  \\\n",
       "0           5  34981  https://www.airbnb.com/rooms/34981  20230610001920   \n",
       "\n",
       "  last_scraped       source  \\\n",
       "0   2023-06-10  city scrape   \n",
       "\n",
       "                                                name  \\\n",
       "0  Rental unit in Barcelona · ★4.52 · 4 bedrooms ...   \n",
       "\n",
       "                                         description  \\\n",
       "0  Spacious apartment for large families or group...   \n",
       "\n",
       "                               neighborhood_overview  \\\n",
       "0  Located in Ciutat Vella in the Gothic Quarter,...   \n",
       "\n",
       "                                         picture_url  ...  oven parking pool  \\\n",
       "0  https://a0.muscache.com/pictures/c4d1723c-e479...  ...   1.0     1.0  0.0   \n",
       "\n",
       "  refrigerator shampoo soap sound stove washer wifi  \n",
       "0          1.0     1.0  0.0   0.0   1.0    1.0  1.0  \n",
       "\n",
       "[1 rows x 222 columns]"
      ]
     },
     "metadata": {},
     "output_type": "display_data"
    }
   ],
   "source": [
    "import ast\n",
    "import warnings\n",
    "warnings.filterwarnings('ignore') #ignore all warnings, very messy\n",
    "\n",
    "# Lets create the \"One-hot Encoding\" onto filtered_insigh_OHE for the amenities\n",
    "filtered_insight_OHE_2 = filtered_insight_OHE.copy()\n",
    "\n",
    "try:\n",
    "    filtered_insight_OHE_2['amenities'] = filtered_insight_OHE_2['amenities'].apply(ast.literal_eval) # Make the string 'amenities' an array of strings\n",
    "except (SyntaxError, ValueError) as e:\n",
    "    # Handle the exception here\n",
    "    print(f\"Amenities already transformed to an array\")\n",
    "    \n",
    "# In future versions this will be done with a custome transformer\n",
    "def check_amenities_in_filter(amenities, filter):\n",
    "    return any(amenity in filter for amenity in amenities)\n",
    "\n",
    "for value in filtered_amenities_list:\n",
    "    appear = False\n",
    "    # get all unique amenities\n",
    "    if value in encode_dict.keys(): # If amenit is a compressed value, look into\n",
    "        word_filter = encode_dict[value]\n",
    "    else:\n",
    "        word_filter = [value]\n",
    "    filtered_insight_OHE_2[value] = filtered_insight_OHE_2.apply(lambda row: 1.0 if check_amenities_in_filter(row['amenities'], word_filter) else 0.0, axis=1)  \n",
    "\n",
    "display(filtered_insight_OHE_2.head(1))"
   ]
  },
  {
   "cell_type": "code",
   "execution_count": 16,
   "id": "8cc90282",
   "metadata": {
    "ExecuteTime": {
     "end_time": "2024-01-06T00:46:45.413080Z",
     "start_time": "2024-01-06T00:46:45.406021Z"
    }
   },
   "outputs": [
    {
     "data": {
      "text/html": [
       "<pre style=\"white-space:pre;overflow-x:auto;line-height:normal;font-family:Menlo,'DejaVu Sans Mono',consolas,'Courier New',monospace\">\n",
       "We have succesfully applied one-hot encodding to neighbourhood and amenities. \n",
       "The task in hand now is to perform a PCA in order to downsize dimension since now we have <span style=\"color: #008080; text-decoration-color: #008080; font-weight: bold\">222</span> columns\n",
       "And since <span style=\"color: #008080; text-decoration-color: #008080; font-weight: bold\">137</span> of them have been created for the amenities, much will presumably be stripped off\n",
       "</pre>\n"
      ],
      "text/plain": [
       "\n",
       "We have succesfully applied one-hot encodding to neighbourhood and amenities. \n",
       "The task in hand now is to perform a PCA in order to downsize dimension since now we have \u001b[1;36m222\u001b[0m columns\n",
       "And since \u001b[1;36m137\u001b[0m of them have been created for the amenities, much will presumably be stripped off\n"
      ]
     },
     "metadata": {},
     "output_type": "display_data"
    }
   ],
   "source": [
    "text = f\"\"\"\n",
    "We have succesfully applied one-hot encodding to neighbourhood and amenities. \n",
    "The task in hand now is to perform a PCA in order to downsize dimension since now we have {len(filtered_insight_OHE_2.keys())} columns\n",
    "And since {len(filtered_amenities_list)} of them have been created for the amenities, much will presumably be stripped off\"\"\"\n",
    "print(text)"
   ]
  },
  {
   "cell_type": "markdown",
   "id": "3e2be601",
   "metadata": {},
   "source": [
    "# Introduction to Principal Component Analysis (PCA)"
   ]
  },
  {
   "cell_type": "markdown",
   "id": "f81d0a30",
   "metadata": {},
   "source": [
    "Principal Component Analysis, commonly known as **PCA**, is a powerful dimensionality reduction technique used in various fields, including machine learning, statistics, and data analysis. PCA is especially valuable when dealing with high-dimensional data, as it helps simplify complex datasets while preserving the most critical information.\n",
    "\n",
    "## What is PCA?\n",
    "\n",
    "PCA is a mathematical procedure that transforms a set of correlated features, possibly high-dimensional, into a new set of uncorrelated variables called \"principal components.\" These principal components are linear combinations of the original features and are ordered by their ability to explain the variance in the data.\n",
    "\n",
    "The primary goals of PCA are as follows:\n",
    "\n",
    "1. **Dimensionality Reduction:** PCA reduces the number of features while retaining as much information as possible. It accomplishes this by projecting the data onto a lower-dimensional subspace.\n",
    "\n",
    "2. **Decorrelation:** PCA ensures that the principal components are uncorrelated, eliminating multicollinearity among features.\n",
    "\n",
    "3. **Variance Maximization:** PCA orders the principal components so that the first few components capture the most variance in the data, allowing for a compact representation of the dataset.\n",
    "\n",
    "## When to Use PCA?\n",
    "\n",
    "You may consider using PCA in the following scenarios:\n",
    "\n",
    "1. **High-Dimensional Data:** When working with datasets containing a large number of features, PCA can help reduce dimensionality while preserving key information.\n",
    "\n",
    "2. **Visualization:** PCA is often used for visualizing high-dimensional data by projecting it into a lower-dimensional space (e.g., 2D or 3D) for easy visualization.\n",
    "\n",
    "3. **Noise Reduction:** PCA can be used to remove noise and focus on the most significant patterns or structures in the data.\n",
    "\n",
    "4. **Feature Engineering:** In some cases, PCA can be used as a feature engineering technique to create new features that capture the most important aspects of the original data.\n",
    "\n",
    "## How PCA Works?\n",
    "\n",
    "PCA involves a series of mathematical steps, including:\n",
    "\n",
    "1. **Centering the Data:** Subtracting the mean from each feature to ensure that the data is centered around the origin.\n",
    "\n",
    "2. **Calculating the Covariance Matrix:** Computing the covariance matrix of the centered data to understand how features are correlated.\n",
    "\n",
    "3. **Eigenvalue Decomposition:** Finding the eigenvalues and eigenvectors of the covariance matrix. These eigenvectors represent the principal components, and the eigenvalues indicate the variance explained by each component.\n",
    "\n",
    "4. **Selecting Principal Components:** Choosing a subset of the principal components based on their contribution to the total variance. Typically, the first few components that capture most of the variance are selected.\n",
    "\n",
    "5. **Projecting Data:** Transforming the original data into the new feature space defined by the selected principal components.\n",
    "\n",
    "## Manifold Learning vs. PCA\n",
    "\n",
    "While PCA is a widely used dimensionality reduction technique, it has limitations, particularly when dealing with complex, non-linear datasets. Here's how Manifold Learning differs from PCA:\n",
    "\n",
    "1. **Non-Linearity:** Manifold Learning techniques can capture non-linear relationships in the data, making them suitable for datasets with intricate structures. In contrast, PCA is a linear technique and may not perform well when data relationships are non-linear.\n",
    "\n",
    "2. **Local vs. Global Structure:** Manifold Learning is especially useful for preserving local structures or clusters of data points. It aims to capture the intrinsic geometry of the data manifold. In contrast, PCA primarily focuses on preserving global data structure and variance.\n",
    "\n",
    "3. **Data Visualization:** Manifold Learning techniques are often preferred when the goal is to visualize complex, high-dimensional data in a lower-dimensional space while maintaining its non-linear structure.\n",
    "\n",
    "In summary, PCA is a powerful technique for linear dimensionality reduction, focusing on orthogonal axes and preserving global structure and variance. Manifold Learning techniques, on the other hand, are designed for capturing non-linear relationships, local structures, and are often used for data visualization in lower-dimensional spaces. The choice between PCA and Manifold Learning depends on the nature of the data and the specific goals of dimensionality reduction.\n",
    "\n",
    "In this notebook, we will explore how to use PCA for dimensionality reduction and data visualization, understand its applications, and demonstrate its implementation using Python and popular libraries like NumPy and scikit-learn.\n",
    "\n",
    "Let's dive into the world of PCA!"
   ]
  },
  {
   "cell_type": "code",
   "execution_count": 17,
   "id": "b81c52e6",
   "metadata": {
    "ExecuteTime": {
     "end_time": "2024-01-06T00:46:49.446901Z",
     "start_time": "2024-01-06T00:46:49.443573Z"
    }
   },
   "outputs": [],
   "source": [
    "from sklearn.decomposition import PCA\n",
    "import matplotlib.pyplot as plt"
   ]
  },
  {
   "cell_type": "code",
   "execution_count": 18,
   "id": "ac2f60e4",
   "metadata": {
    "ExecuteTime": {
     "end_time": "2024-01-06T00:46:50.505496Z",
     "start_time": "2024-01-06T00:46:50.498650Z"
    }
   },
   "outputs": [],
   "source": [
    "def plot_pca_cumsum(cumsum_array,variance):\n",
    "    d = np.argmax(cumsum_array >= variance) + 1\n",
    "    # Create the main figure and two subplots with the same aspect ratio\n",
    "    fig = plt.figure(figsize=(10, 3))\n",
    "    ax1 = fig.add_subplot(121, aspect='auto')  # First subplot for the line plot\n",
    "    ax2 = fig.add_subplot(122, aspect='auto')  # Second subplot for the text\n",
    "\n",
    "    # Plot the cumulative variance explained on the first subplot\n",
    "    ax1.plot(cumsum_array)\n",
    "    ax1.axhline(y=variance, color='red', linestyle='--', label='accumulated variance = 0.95')\n",
    "    ax1.set_xlabel('Number of Principal Components')\n",
    "    ax1.set_ylabel('Cumulative Variance Explained')\n",
    "    ax1.set_title('Cumulative Variance Explained by Principal Components')\n",
    "    ax1.set_title('Variancia Acumulada Explicada per Components Principals')\n",
    "    ax1.grid(False)\n",
    "    ax1.legend()\n",
    "\n",
    "    # Add text to the second subplot\n",
    "    right_text = f\"\"\"\n",
    "    This graph is an accumulative sum of the variance from each column added.\n",
    "    As we can see, this reduces the number of columns from {len(cumsum_array)} to {d}.\n",
    "    Lets now procede to perform the projection so that we get the {variance} of the variance using sklearn.decomposition.PCA.\n",
    "    \"\"\"\n",
    "    ax2.text(0.1, 0.5, right_text, transform=ax2.transAxes, color='black', fontsize=12, verticalalignment='center')\n",
    "\n",
    "    ax2.spines['top'].set_visible(False)\n",
    "    ax2.spines['right'].set_visible(False)\n",
    "    ax2.spines['bottom'].set_visible(False)\n",
    "    ax2.spines['left'].set_visible(False)\n",
    "\n",
    "    # Remove ticks and labels from the second subplot\n",
    "    ax2.set_xticks([])\n",
    "    ax2.set_yticks([])\n",
    "\n",
    "    # Show the plot\n",
    "    plt.show()"
   ]
  },
  {
   "cell_type": "code",
   "execution_count": 19,
   "id": "df65dfd8",
   "metadata": {
    "ExecuteTime": {
     "end_time": "2024-01-06T00:46:51.321910Z",
     "start_time": "2024-01-06T00:46:51.317977Z"
    }
   },
   "outputs": [],
   "source": [
    "def calculate_cumsum(df,variance):\n",
    "    # PCA code to get the cumulative sum of variance to show a nice surbe of variance\n",
    "    pca = PCA()\n",
    "    pca.fit(df)\n",
    "    cumsum = np.cumsum(pca.explained_variance_ratio_)  # array of the cumulative sum of variance\n",
    "    \n",
    "    # plot pca cumsum visualisation\n",
    "    plot_pca_cumsum(cumsum,variance)\n",
    "    return cumsum"
   ]
  },
  {
   "cell_type": "code",
   "execution_count": 20,
   "id": "dcc6c93c",
   "metadata": {
    "ExecuteTime": {
     "end_time": "2024-01-06T00:46:52.088453Z",
     "start_time": "2024-01-06T00:46:51.688931Z"
    }
   },
   "outputs": [
    {
     "data": {
      "text/html": [
       "<pre style=\"white-space:pre;overflow-x:auto;line-height:normal;font-family:Menlo,'DejaVu Sans Mono',consolas,'Courier New',monospace\">Cumulative Variance for variables created by One-Hote Encoding the component <span style=\"color: #008000; text-decoration-color: #008000\">'amenities'</span>\n",
       "</pre>\n"
      ],
      "text/plain": [
       "Cumulative Variance for variables created by One-Hote Encoding the component \u001b[32m'amenities'\u001b[0m\n"
      ]
     },
     "metadata": {},
     "output_type": "display_data"
    },
    {
     "data": {
      "image/png": "[encoded data removed]",
      "text/plain": [
       "<Figure size 1000x300 with 2 Axes>"
      ]
     },
     "metadata": {},
     "output_type": "display_data"
    }
   ],
   "source": [
    "amenities_pca = filtered_insight_OHE_2[filtered_amenities_list].copy()\n",
    "print(\"Cumulative Variance for variables created by One-Hote Encoding the component 'amenities'\")\n",
    "cumsum = calculate_cumsum(amenities_pca,0.95)"
   ]
  },
  {
   "cell_type": "code",
   "execution_count": 21,
   "id": "ceb6d037",
   "metadata": {
    "ExecuteTime": {
     "end_time": "2024-01-06T00:46:53.794034Z",
     "start_time": "2024-01-06T00:46:53.750694Z"
    }
   },
   "outputs": [
    {
     "data": {
      "text/html": [
       "<pre style=\"white-space:pre;overflow-x:auto;line-height:normal;font-family:Menlo,'DejaVu Sans Mono',consolas,'Courier New',monospace\"><span style=\"color: #008080; text-decoration-color: #008080; font-weight: bold\">76</span>\n",
       "</pre>\n"
      ],
      "text/plain": [
       "\u001b[1;36m76\u001b[0m\n"
      ]
     },
     "metadata": {},
     "output_type": "display_data"
    }
   ],
   "source": [
    "#Apply PCA preserving the variance\n",
    "from sklearn.decomposition import PCA\n",
    "\n",
    "variance = 0.95 # Standard\n",
    "\n",
    "amenities_pca = filtered_insight_OHE_2[filtered_amenities_list].copy()\n",
    "\n",
    "#This code creates and trains a PCA model that will keep 0.95 of the variance\n",
    "pca = PCA(n_components = variance)\n",
    "d = np.argmax(cumsum >= variance) + 1\n",
    "compressed = pca.fit_transform(amenities_pca) #This contains a table full of arrays with the projected data\n",
    "\n",
    "# In order to tranform the amenities of a new listing to get the prediction: pca.transform(new_amenities)\n",
    "# Now, lets save the pca model to be able to recuperate it when neaded\n",
    "\n",
    "#print(type(compressed))\n",
    "compressed = compressed.T\n",
    "print(len(compressed))"
   ]
  },
  {
   "cell_type": "code",
   "execution_count": 22,
   "id": "a279035d",
   "metadata": {
    "ExecuteTime": {
     "end_time": "2024-01-06T00:46:54.573529Z",
     "start_time": "2024-01-06T00:46:54.553328Z"
    }
   },
   "outputs": [
    {
     "data": {
      "text/html": [
       "<pre style=\"white-space:pre;overflow-x:auto;line-height:normal;font-family:Menlo,'DejaVu Sans Mono',consolas,'Courier New',monospace\">New components leangth from performing projection <span style=\"font-weight: bold\">(</span>PCA<span style=\"font-weight: bold\">)</span> is <span style=\"color: #008080; text-decoration-color: #008080; font-weight: bold\">76</span>, and they contain the <span style=\"color: #008080; text-decoration-color: #008080; font-weight: bold\">0.95</span> of the total variance. \n",
       "Which means that this process has reduced the components by  <span style=\"color: #008080; text-decoration-color: #008080; font-weight: bold\">0.55</span>\n",
       "</pre>\n"
      ],
      "text/plain": [
       "New components leangth from performing projection \u001b[1m(\u001b[0mPCA\u001b[1m)\u001b[0m is \u001b[1;36m76\u001b[0m, and they contain the \u001b[1;36m0.95\u001b[0m of the total variance. \n",
       "Which means that this process has reduced the components by  \u001b[1;36m0.55\u001b[0m\n"
      ]
     },
     "metadata": {},
     "output_type": "display_data"
    },
    {
     "data": {
      "text/html": [
       "<pre style=\"white-space:pre;overflow-x:auto;line-height:normal;font-family:Menlo,'DejaVu Sans Mono',consolas,'Courier New',monospace\">This is the variance from the top <span style=\"color: #008080; text-decoration-color: #008080; font-weight: bold\">76</span> components: \n",
       "\n",
       "<span style=\"font-weight: bold\">[</span><span style=\"color: #008080; text-decoration-color: #008080; font-weight: bold\">0.17390987</span> <span style=\"color: #008080; text-decoration-color: #008080; font-weight: bold\">0.05822175</span> <span style=\"color: #008080; text-decoration-color: #008080; font-weight: bold\">0.04893038</span> <span style=\"color: #008080; text-decoration-color: #008080; font-weight: bold\">0.04072135</span> <span style=\"color: #008080; text-decoration-color: #008080; font-weight: bold\">0.03180471</span> <span style=\"color: #008080; text-decoration-color: #008080; font-weight: bold\">0.02683052</span>\n",
       " <span style=\"color: #008080; text-decoration-color: #008080; font-weight: bold\">0.02243359</span> <span style=\"color: #008080; text-decoration-color: #008080; font-weight: bold\">0.0205312</span>  <span style=\"color: #008080; text-decoration-color: #008080; font-weight: bold\">0.0194849</span>  <span style=\"color: #008080; text-decoration-color: #008080; font-weight: bold\">0.01912955</span> <span style=\"color: #008080; text-decoration-color: #008080; font-weight: bold\">0.01838738</span> <span style=\"color: #008080; text-decoration-color: #008080; font-weight: bold\">0.01741263</span>\n",
       " <span style=\"color: #008080; text-decoration-color: #008080; font-weight: bold\">0.01644131</span> <span style=\"color: #008080; text-decoration-color: #008080; font-weight: bold\">0.01548781</span> <span style=\"color: #008080; text-decoration-color: #008080; font-weight: bold\">0.01504516</span> <span style=\"color: #008080; text-decoration-color: #008080; font-weight: bold\">0.01418718</span> <span style=\"color: #008080; text-decoration-color: #008080; font-weight: bold\">0.01370892</span> <span style=\"color: #008080; text-decoration-color: #008080; font-weight: bold\">0.01280595</span>\n",
       " <span style=\"color: #008080; text-decoration-color: #008080; font-weight: bold\">0.01236706</span> <span style=\"color: #008080; text-decoration-color: #008080; font-weight: bold\">0.01201827</span> <span style=\"color: #008080; text-decoration-color: #008080; font-weight: bold\">0.01179846</span> <span style=\"color: #008080; text-decoration-color: #008080; font-weight: bold\">0.0115134</span>  <span style=\"color: #008080; text-decoration-color: #008080; font-weight: bold\">0.01109183</span> <span style=\"color: #008080; text-decoration-color: #008080; font-weight: bold\">0.01077678</span>\n",
       " <span style=\"color: #008080; text-decoration-color: #008080; font-weight: bold\">0.01041935</span> <span style=\"color: #008080; text-decoration-color: #008080; font-weight: bold\">0.01014111</span> <span style=\"color: #008080; text-decoration-color: #008080; font-weight: bold\">0.00965276</span> <span style=\"color: #008080; text-decoration-color: #008080; font-weight: bold\">0.00961346</span> <span style=\"color: #008080; text-decoration-color: #008080; font-weight: bold\">0.00930676</span> <span style=\"color: #008080; text-decoration-color: #008080; font-weight: bold\">0.00915772</span>\n",
       " <span style=\"color: #008080; text-decoration-color: #008080; font-weight: bold\">0.00905995</span> <span style=\"color: #008080; text-decoration-color: #008080; font-weight: bold\">0.00878954</span> <span style=\"color: #008080; text-decoration-color: #008080; font-weight: bold\">0.00877336</span> <span style=\"color: #008080; text-decoration-color: #008080; font-weight: bold\">0.00842015</span> <span style=\"color: #008080; text-decoration-color: #008080; font-weight: bold\">0.0079862</span>  <span style=\"color: #008080; text-decoration-color: #008080; font-weight: bold\">0.00792186</span>\n",
       " <span style=\"color: #008080; text-decoration-color: #008080; font-weight: bold\">0.00752184</span> <span style=\"color: #008080; text-decoration-color: #008080; font-weight: bold\">0.00718052</span> <span style=\"color: #008080; text-decoration-color: #008080; font-weight: bold\">0.00713902</span> <span style=\"color: #008080; text-decoration-color: #008080; font-weight: bold\">0.00680994</span> <span style=\"color: #008080; text-decoration-color: #008080; font-weight: bold\">0.00678813</span> <span style=\"color: #008080; text-decoration-color: #008080; font-weight: bold\">0.00665008</span>\n",
       " <span style=\"color: #008080; text-decoration-color: #008080; font-weight: bold\">0.00651496</span> <span style=\"color: #008080; text-decoration-color: #008080; font-weight: bold\">0.00611569</span> <span style=\"color: #008080; text-decoration-color: #008080; font-weight: bold\">0.00597395</span> <span style=\"color: #008080; text-decoration-color: #008080; font-weight: bold\">0.005871</span>   <span style=\"color: #008080; text-decoration-color: #008080; font-weight: bold\">0.00575167</span> <span style=\"color: #008080; text-decoration-color: #008080; font-weight: bold\">0.00570038</span>\n",
       " <span style=\"color: #008080; text-decoration-color: #008080; font-weight: bold\">0.00538163</span> <span style=\"color: #008080; text-decoration-color: #008080; font-weight: bold\">0.00522649</span> <span style=\"color: #008080; text-decoration-color: #008080; font-weight: bold\">0.00514376</span> <span style=\"color: #008080; text-decoration-color: #008080; font-weight: bold\">0.00499879</span> <span style=\"color: #008080; text-decoration-color: #008080; font-weight: bold\">0.00483184</span> <span style=\"color: #008080; text-decoration-color: #008080; font-weight: bold\">0.00471288</span>\n",
       " <span style=\"color: #008080; text-decoration-color: #008080; font-weight: bold\">0.00464266</span> <span style=\"color: #008080; text-decoration-color: #008080; font-weight: bold\">0.00460797</span> <span style=\"color: #008080; text-decoration-color: #008080; font-weight: bold\">0.00436155</span> <span style=\"color: #008080; text-decoration-color: #008080; font-weight: bold\">0.00425152</span> <span style=\"color: #008080; text-decoration-color: #008080; font-weight: bold\">0.00424407</span> <span style=\"color: #008080; text-decoration-color: #008080; font-weight: bold\">0.0041448</span>\n",
       " <span style=\"color: #008080; text-decoration-color: #008080; font-weight: bold\">0.00409806</span> <span style=\"color: #008080; text-decoration-color: #008080; font-weight: bold\">0.00395768</span> <span style=\"color: #008080; text-decoration-color: #008080; font-weight: bold\">0.00389675</span> <span style=\"color: #008080; text-decoration-color: #008080; font-weight: bold\">0.00378781</span> <span style=\"color: #008080; text-decoration-color: #008080; font-weight: bold\">0.00363144</span> <span style=\"color: #008080; text-decoration-color: #008080; font-weight: bold\">0.00353435</span>\n",
       " <span style=\"color: #008080; text-decoration-color: #008080; font-weight: bold\">0.00338978</span> <span style=\"color: #008080; text-decoration-color: #008080; font-weight: bold\">0.00334445</span> <span style=\"color: #008080; text-decoration-color: #008080; font-weight: bold\">0.00326585</span> <span style=\"color: #008080; text-decoration-color: #008080; font-weight: bold\">0.00324109</span> <span style=\"color: #008080; text-decoration-color: #008080; font-weight: bold\">0.00310645</span> <span style=\"color: #008080; text-decoration-color: #008080; font-weight: bold\">0.00301202</span>\n",
       " <span style=\"color: #008080; text-decoration-color: #008080; font-weight: bold\">0.00297173</span> <span style=\"color: #008080; text-decoration-color: #008080; font-weight: bold\">0.00278462</span> <span style=\"color: #008080; text-decoration-color: #008080; font-weight: bold\">0.00272142</span> <span style=\"color: #008080; text-decoration-color: #008080; font-weight: bold\">0.00256779</span><span style=\"font-weight: bold\">]</span>\n",
       "</pre>\n"
      ],
      "text/plain": [
       "This is the variance from the top \u001b[1;36m76\u001b[0m components: \n",
       "\n",
       "\u001b[1m[\u001b[0m\u001b[1;36m0.17390987\u001b[0m \u001b[1;36m0.05822175\u001b[0m \u001b[1;36m0.04893038\u001b[0m \u001b[1;36m0.04072135\u001b[0m \u001b[1;36m0.03180471\u001b[0m \u001b[1;36m0.02683052\u001b[0m\n",
       " \u001b[1;36m0.02243359\u001b[0m \u001b[1;36m0.0205312\u001b[0m  \u001b[1;36m0.0194849\u001b[0m  \u001b[1;36m0.01912955\u001b[0m \u001b[1;36m0.01838738\u001b[0m \u001b[1;36m0.01741263\u001b[0m\n",
       " \u001b[1;36m0.01644131\u001b[0m \u001b[1;36m0.01548781\u001b[0m \u001b[1;36m0.01504516\u001b[0m \u001b[1;36m0.01418718\u001b[0m \u001b[1;36m0.01370892\u001b[0m \u001b[1;36m0.01280595\u001b[0m\n",
       " \u001b[1;36m0.01236706\u001b[0m \u001b[1;36m0.01201827\u001b[0m \u001b[1;36m0.01179846\u001b[0m \u001b[1;36m0.0115134\u001b[0m  \u001b[1;36m0.01109183\u001b[0m \u001b[1;36m0.01077678\u001b[0m\n",
       " \u001b[1;36m0.01041935\u001b[0m \u001b[1;36m0.01014111\u001b[0m \u001b[1;36m0.00965276\u001b[0m \u001b[1;36m0.00961346\u001b[0m \u001b[1;36m0.00930676\u001b[0m \u001b[1;36m0.00915772\u001b[0m\n",
       " \u001b[1;36m0.00905995\u001b[0m \u001b[1;36m0.00878954\u001b[0m \u001b[1;36m0.00877336\u001b[0m \u001b[1;36m0.00842015\u001b[0m \u001b[1;36m0.0079862\u001b[0m  \u001b[1;36m0.00792186\u001b[0m\n",
       " \u001b[1;36m0.00752184\u001b[0m \u001b[1;36m0.00718052\u001b[0m \u001b[1;36m0.00713902\u001b[0m \u001b[1;36m0.00680994\u001b[0m \u001b[1;36m0.00678813\u001b[0m \u001b[1;36m0.00665008\u001b[0m\n",
       " \u001b[1;36m0.00651496\u001b[0m \u001b[1;36m0.00611569\u001b[0m \u001b[1;36m0.00597395\u001b[0m \u001b[1;36m0.005871\u001b[0m   \u001b[1;36m0.00575167\u001b[0m \u001b[1;36m0.00570038\u001b[0m\n",
       " \u001b[1;36m0.00538163\u001b[0m \u001b[1;36m0.00522649\u001b[0m \u001b[1;36m0.00514376\u001b[0m \u001b[1;36m0.00499879\u001b[0m \u001b[1;36m0.00483184\u001b[0m \u001b[1;36m0.00471288\u001b[0m\n",
       " \u001b[1;36m0.00464266\u001b[0m \u001b[1;36m0.00460797\u001b[0m \u001b[1;36m0.00436155\u001b[0m \u001b[1;36m0.00425152\u001b[0m \u001b[1;36m0.00424407\u001b[0m \u001b[1;36m0.0041448\u001b[0m\n",
       " \u001b[1;36m0.00409806\u001b[0m \u001b[1;36m0.00395768\u001b[0m \u001b[1;36m0.00389675\u001b[0m \u001b[1;36m0.00378781\u001b[0m \u001b[1;36m0.00363144\u001b[0m \u001b[1;36m0.00353435\u001b[0m\n",
       " \u001b[1;36m0.00338978\u001b[0m \u001b[1;36m0.00334445\u001b[0m \u001b[1;36m0.00326585\u001b[0m \u001b[1;36m0.00324109\u001b[0m \u001b[1;36m0.00310645\u001b[0m \u001b[1;36m0.00301202\u001b[0m\n",
       " \u001b[1;36m0.00297173\u001b[0m \u001b[1;36m0.00278462\u001b[0m \u001b[1;36m0.00272142\u001b[0m \u001b[1;36m0.00256779\u001b[0m\u001b[1m]\u001b[0m\n"
      ]
     },
     "metadata": {},
     "output_type": "display_data"
    }
   ],
   "source": [
    "print(f\"New components leangth from performing projection (PCA) is {d}, and they contain the {variance} of the total variance. Which means that this process has reduced the components by {d/len(filtered_amenities_list) : .2f}\")\n",
    "print(f\"\"\"This is the variance from the top {d} components: \n",
    "\n",
    "{pca.explained_variance_ratio_[:d]}\"\"\")"
   ]
  },
  {
   "cell_type": "code",
   "execution_count": 23,
   "id": "bd3f1d29",
   "metadata": {
    "ExecuteTime": {
     "end_time": "2024-01-06T00:46:55.583258Z",
     "start_time": "2024-01-06T00:46:55.529336Z"
    }
   },
   "outputs": [
    {
     "data": {
      "text/html": [
       "<pre style=\"white-space:pre;overflow-x:auto;line-height:normal;font-family:Menlo,'DejaVu Sans Mono',consolas,'Courier New',monospace\">Num of components before 1Hot encoding <span style=\"color: #008000; text-decoration-color: #008000\">'Amenities'</span>: <span style=\"color: #008080; text-decoration-color: #008080; font-weight: bold\">85</span>\n",
       "</pre>\n"
      ],
      "text/plain": [
       "Num of components before 1Hot encoding \u001b[32m'Amenities'\u001b[0m: \u001b[1;36m85\u001b[0m\n"
      ]
     },
     "metadata": {},
     "output_type": "display_data"
    },
    {
     "data": {
      "text/html": [
       "<pre style=\"white-space:pre;overflow-x:auto;line-height:normal;font-family:Menlo,'DejaVu Sans Mono',consolas,'Courier New',monospace\">Num of components after 1Hot encoding <span style=\"color: #008000; text-decoration-color: #008000\">'Amenities'</span>: <span style=\"color: #008080; text-decoration-color: #008080; font-weight: bold\">222</span>\n",
       "</pre>\n"
      ],
      "text/plain": [
       "Num of components after 1Hot encoding \u001b[32m'Amenities'\u001b[0m: \u001b[1;36m222\u001b[0m\n"
      ]
     },
     "metadata": {},
     "output_type": "display_data"
    },
    {
     "data": {
      "text/html": [
       "<pre style=\"white-space:pre;overflow-x:auto;line-height:normal;font-family:Menlo,'DejaVu Sans Mono',consolas,'Courier New',monospace\">Num of components after 1Hot encoding <span style=\"color: #008000; text-decoration-color: #008000\">'Amenities'</span> and projection PCA: <span style=\"color: #008080; text-decoration-color: #008080; font-weight: bold\">161</span>\n",
       "</pre>\n"
      ],
      "text/plain": [
       "Num of components after 1Hot encoding \u001b[32m'Amenities'\u001b[0m and projection PCA: \u001b[1;36m161\u001b[0m\n"
      ]
     },
     "metadata": {},
     "output_type": "display_data"
    },
    {
     "data": {
      "text/html": [
       "<div>\n",
       "<style scoped>\n",
       "    .dataframe tbody tr th:only-of-type {\n",
       "        vertical-align: middle;\n",
       "    }\n",
       "\n",
       "    .dataframe tbody tr th {\n",
       "        vertical-align: top;\n",
       "    }\n",
       "\n",
       "    .dataframe thead th {\n",
       "        text-align: right;\n",
       "    }\n",
       "</style>\n",
       "<table border=\"1\" class=\"dataframe\">\n",
       "  <thead>\n",
       "    <tr style=\"text-align: right;\">\n",
       "      <th></th>\n",
       "      <th>Unnamed: 0</th>\n",
       "      <th>id</th>\n",
       "      <th>listing_url</th>\n",
       "      <th>scrape_id</th>\n",
       "      <th>last_scraped</th>\n",
       "      <th>source</th>\n",
       "      <th>name</th>\n",
       "      <th>description</th>\n",
       "      <th>neighborhood_overview</th>\n",
       "      <th>picture_url</th>\n",
       "      <th>...</th>\n",
       "      <th>amenities_66</th>\n",
       "      <th>amenities_67</th>\n",
       "      <th>amenities_68</th>\n",
       "      <th>amenities_69</th>\n",
       "      <th>amenities_70</th>\n",
       "      <th>amenities_71</th>\n",
       "      <th>amenities_72</th>\n",
       "      <th>amenities_73</th>\n",
       "      <th>amenities_74</th>\n",
       "      <th>amenities_75</th>\n",
       "    </tr>\n",
       "  </thead>\n",
       "  <tbody>\n",
       "    <tr>\n",
       "      <th>0</th>\n",
       "      <td>5</td>\n",
       "      <td>34981</td>\n",
       "      <td>https://www.airbnb.com/rooms/34981</td>\n",
       "      <td>20230610001920</td>\n",
       "      <td>2023-06-10</td>\n",
       "      <td>city scrape</td>\n",
       "      <td>Rental unit in Barcelona · ★4.52 · 4 bedrooms ...</td>\n",
       "      <td>Spacious apartment for large families or group...</td>\n",
       "      <td>Located in Ciutat Vella in the Gothic Quarter,...</td>\n",
       "      <td>https://a0.muscache.com/pictures/c4d1723c-e479...</td>\n",
       "      <td>...</td>\n",
       "      <td>0.026593</td>\n",
       "      <td>-0.056973</td>\n",
       "      <td>-0.387169</td>\n",
       "      <td>-0.175108</td>\n",
       "      <td>0.478251</td>\n",
       "      <td>-0.061595</td>\n",
       "      <td>-0.173578</td>\n",
       "      <td>0.097224</td>\n",
       "      <td>-0.070836</td>\n",
       "      <td>-0.048632</td>\n",
       "    </tr>\n",
       "  </tbody>\n",
       "</table>\n",
       "<p>1 rows × 161 columns</p>\n",
       "</div>"
      ],
      "text/plain": [
       "   Unnamed: 0     id                         listing_url       scrape_id  \\\n",
       "0           5  34981  https://www.airbnb.com/rooms/34981  20230610001920   \n",
       "\n",
       "  last_scraped       source  \\\n",
       "0   2023-06-10  city scrape   \n",
       "\n",
       "                                                name  \\\n",
       "0  Rental unit in Barcelona · ★4.52 · 4 bedrooms ...   \n",
       "\n",
       "                                         description  \\\n",
       "0  Spacious apartment for large families or group...   \n",
       "\n",
       "                               neighborhood_overview  \\\n",
       "0  Located in Ciutat Vella in the Gothic Quarter,...   \n",
       "\n",
       "                                         picture_url  ...  amenities_66  \\\n",
       "0  https://a0.muscache.com/pictures/c4d1723c-e479...  ...      0.026593   \n",
       "\n",
       "  amenities_67 amenities_68 amenities_69 amenities_70 amenities_71  \\\n",
       "0    -0.056973    -0.387169    -0.175108     0.478251    -0.061595   \n",
       "\n",
       "  amenities_72 amenities_73 amenities_74 amenities_75  \n",
       "0    -0.173578     0.097224    -0.070836    -0.048632  \n",
       "\n",
       "[1 rows x 161 columns]"
      ]
     },
     "metadata": {},
     "output_type": "display_data"
    }
   ],
   "source": [
    "print(f\"Num of components before 1Hot encoding 'Amenities': {len(filtered_insight_OHE.columns)}\")\n",
    "filtered_insight_OHE_2_PCA = filtered_insight_OHE_2.copy()\n",
    "print(f\"Num of components after 1Hot encoding 'Amenities': {len(filtered_insight_OHE_2_PCA.columns)}\")\n",
    "\n",
    "columns_to_drop = [col for col in filtered_amenities_list if col in filtered_insight_OHE_2_PCA.columns] # per seguretat\n",
    "filtered_insight_OHE_2_PCA.drop(columns=columns_to_drop, inplace=True)\n",
    "\n",
    "# Lets add the columns created with amenities_PCA\n",
    "column_titles = [f'amenities_{i}' for i in range(len(compressed))]\n",
    "for i in range(len(compressed)):\n",
    "    filtered_insight_OHE_2_PCA[column_titles[i]] = compressed[i]\n",
    "\n",
    "print(f\"Num of components after 1Hot encoding 'Amenities' and projection PCA: {len(filtered_insight_OHE_2_PCA.columns)}\")\n",
    "display(filtered_insight_OHE_2_PCA.head(1))"
   ]
  },
  {
   "cell_type": "markdown",
   "id": "fb5c6b61",
   "metadata": {},
   "source": [
    "# Text embeding"
   ]
  },
  {
   "cell_type": "code",
   "execution_count": 24,
   "id": "a4da2b77",
   "metadata": {
    "ExecuteTime": {
     "end_time": "2024-01-06T00:47:02.583877Z",
     "start_time": "2024-01-06T00:46:56.914912Z"
    }
   },
   "outputs": [],
   "source": [
    "from transformers import BertTokenizer, BertModel\n",
    "import torch"
   ]
  },
  {
   "cell_type": "code",
   "execution_count": 25,
   "id": "45fa11f2",
   "metadata": {
    "ExecuteTime": {
     "end_time": "2024-01-06T01:02:39.060578Z",
     "start_time": "2024-01-06T00:47:02.583877Z"
    }
   },
   "outputs": [],
   "source": [
    "# Load the pre-trained BERT model and tokenizer (you need to install transformers)\n",
    "model_name = \"bert-base-uncased\"\n",
    "tokenizer = BertTokenizer.from_pretrained(model_name)\n",
    "model = BertModel.from_pretrained(model_name)\n",
    "\n",
    "text_column = filtered_insight['description']\n",
    "\n",
    "# Initialize an empty list to store the embeddings\n",
    "embeddings = []\n",
    "\n",
    "# Loop through each element in the column and embed it\n",
    "for text in text_column:\n",
    "    # Tokenize and convert the sentence to input format\n",
    "    tokens = tokenizer(text, padding=True, truncation=True, return_tensors=\"pt\")\n",
    "\n",
    "    # Get the sentence embedding\n",
    "    with torch.no_grad():\n",
    "        outputs = model(**tokens)\n",
    "        sentence_embedding = outputs.last_hidden_state.mean(dim=1).squeeze().numpy()\n",
    "\n",
    "    # Append the embedding to the list\n",
    "    embeddings.append(sentence_embedding)\n",
    "\n",
    "# Convert the list of embeddings to a NumPy array\n",
    "embeddings_array = np.array(embeddings)"
   ]
  },
  {
   "cell_type": "markdown",
   "id": "3c5a743b",
   "metadata": {},
   "source": [
    "Now the model has been trained, now, lets process the text embeding"
   ]
  },
  {
   "cell_type": "code",
   "execution_count": 26,
   "id": "a5a4e779",
   "metadata": {
    "ExecuteTime": {
     "end_time": "2024-01-06T01:02:39.589739Z",
     "start_time": "2024-01-06T01:02:39.060578Z"
    }
   },
   "outputs": [
    {
     "data": {
      "text/html": [
       "<pre style=\"white-space:pre;overflow-x:auto;line-height:normal;font-family:Menlo,'DejaVu Sans Mono',consolas,'Courier New',monospace\">Cumulative Variance from the columns generated by the BERT embeding:\n",
       "</pre>\n"
      ],
      "text/plain": [
       "Cumulative Variance from the columns generated by the BERT embeding:\n"
      ]
     },
     "metadata": {},
     "output_type": "display_data"
    },
    {
     "data": {
      "image/png": "[encoded data removed]",
      "text/plain": [
       "<Figure size 1000x300 with 2 Axes>"
      ]
     },
     "metadata": {},
     "output_type": "display_data"
    }
   ],
   "source": [
    "emb = embeddings_array.copy()\n",
    "print(\"Cumulative Variance from the columns generated by the BERT embeding:\")\n",
    "cumsum = calculate_cumsum(emb,0.95)"
   ]
  },
  {
   "cell_type": "code",
   "execution_count": 27,
   "id": "a6aac183",
   "metadata": {
    "ExecuteTime": {
     "end_time": "2024-01-06T01:02:39.776353Z",
     "start_time": "2024-01-06T01:02:39.589739Z"
    }
   },
   "outputs": [
    {
     "data": {
      "text/html": [
       "<pre style=\"white-space:pre;overflow-x:auto;line-height:normal;font-family:Menlo,'DejaVu Sans Mono',consolas,'Courier New',monospace\">Amound of components from using BERT embedding: <span style=\"color: #008080; text-decoration-color: #008080; font-weight: bold\">768</span>\n",
       "</pre>\n"
      ],
      "text/plain": [
       "Amound of components from using BERT embedding: \u001b[1;36m768\u001b[0m\n"
      ]
     },
     "metadata": {},
     "output_type": "display_data"
    },
    {
     "data": {
      "text/html": [
       "<pre style=\"white-space:pre;overflow-x:auto;line-height:normal;font-family:Menlo,'DejaVu Sans Mono',consolas,'Courier New',monospace\">Amound of components from using BERT embedding and using a PCA: <span style=\"color: #008080; text-decoration-color: #008080; font-weight: bold\">133</span>\n",
       "</pre>\n"
      ],
      "text/plain": [
       "Amound of components from using BERT embedding and using a PCA: \u001b[1;36m133\u001b[0m\n"
      ]
     },
     "metadata": {},
     "output_type": "display_data"
    }
   ],
   "source": [
    "# train and fit the PCA for description embeded\n",
    "embeddings_array_t = embeddings_array\n",
    "\n",
    "variance = 0.95 \n",
    "\n",
    "emb = embeddings_array_t.copy()\n",
    "\n",
    "pca_description = PCA(n_components = variance)\n",
    "compressed = pca_description.fit_transform(emb)\n",
    "\n",
    "compressed = compressed.T\n",
    "\n",
    "print(f\"Amound of components from using BERT embedding: {len(embeddings_array_t.T)}\")\n",
    "print(f\"Amound of components from using BERT embedding and using a PCA: {len(compressed)}\")"
   ]
  },
  {
   "cell_type": "code",
   "execution_count": 91,
   "id": "2632f917",
   "metadata": {
    "ExecuteTime": {
     "end_time": "2023-11-09T16:10:09.120106Z",
     "start_time": "2023-11-09T16:10:04.630365Z"
    }
   },
   "outputs": [
    {
     "data": {
      "text/plain": [
       "(2320, 133)"
      ]
     },
     "metadata": {},
     "output_type": "display_data"
    },
    {
     "data": {
      "text/plain": [
       "(2320, 768)"
      ]
     },
     "metadata": {},
     "output_type": "display_data"
    }
   ],
   "source": [
    "description_EMB_PCA = pd.DataFrame()\n",
    "description_EMB = pd.DataFrame()\n",
    "\n",
    "column_titles = [f'description_{i}' for i in range(len(compressed))]\n",
    "for i in range(len(compressed)):\n",
    "    description_EMB_PCA[column_titles[i]] = compressed[i]\n",
    "    \n",
    "column_titles = [f'description_{i}' for i in range(len(embeddings_array_t.T))]\n",
    "for i in range(len(embeddings_array_t.T)):\n",
    "    description_EMB[column_titles[i]] = embeddings_array_t.T[i]\n",
    "    \n",
    "display(final_bdd_PCA.shape)\n",
    "display(final_bdd.shape)\n",
    "\n",
    "description_EMB_PCA.to_csv('bdd_barcelona/processed/Test-2/description_EMB_PCA.csv', index=False)\n",
    "description_EMB.to_csv('bdd_barcelona/processed/Test-2/description_EMB.csv', index=False)"
   ]
  },
  {
   "cell_type": "code",
   "execution_count": 22,
   "id": "f095ed8d",
   "metadata": {
    "ExecuteTime": {
     "end_time": "2023-10-29T19:29:15.005502Z",
     "start_time": "2023-10-29T19:29:14.884245Z"
    }
   },
   "outputs": [
    {
     "data": {
      "text/html": [
       "<div>\n",
       "<style scoped>\n",
       "    .dataframe tbody tr th:only-of-type {\n",
       "        vertical-align: middle;\n",
       "    }\n",
       "\n",
       "    .dataframe tbody tr th {\n",
       "        vertical-align: top;\n",
       "    }\n",
       "\n",
       "    .dataframe thead th {\n",
       "        text-align: right;\n",
       "    }\n",
       "</style>\n",
       "<table border=\"1\" class=\"dataframe\">\n",
       "  <thead>\n",
       "    <tr style=\"text-align: right;\">\n",
       "      <th></th>\n",
       "      <th>Unnamed: 0</th>\n",
       "      <th>id</th>\n",
       "      <th>listing_url</th>\n",
       "      <th>scrape_id</th>\n",
       "      <th>last_scraped</th>\n",
       "      <th>source</th>\n",
       "      <th>name</th>\n",
       "      <th>neighborhood_overview</th>\n",
       "      <th>picture_url</th>\n",
       "      <th>host_id</th>\n",
       "      <th>...</th>\n",
       "      <th>description_123</th>\n",
       "      <th>description_124</th>\n",
       "      <th>description_125</th>\n",
       "      <th>description_126</th>\n",
       "      <th>description_127</th>\n",
       "      <th>description_128</th>\n",
       "      <th>description_129</th>\n",
       "      <th>description_130</th>\n",
       "      <th>description_131</th>\n",
       "      <th>description_132</th>\n",
       "    </tr>\n",
       "  </thead>\n",
       "  <tbody>\n",
       "    <tr>\n",
       "      <th>0</th>\n",
       "      <td>5</td>\n",
       "      <td>34981</td>\n",
       "      <td>https://www.airbnb.com/rooms/34981</td>\n",
       "      <td>20230610001920</td>\n",
       "      <td>2023-06-10</td>\n",
       "      <td>city scrape</td>\n",
       "      <td>Rental unit in Barcelona · ★4.52 · 4 bedrooms ...</td>\n",
       "      <td>Located in Ciutat Vella in the Gothic Quarter,...</td>\n",
       "      <td>https://a0.muscache.com/pictures/c4d1723c-e479...</td>\n",
       "      <td>73163</td>\n",
       "      <td>...</td>\n",
       "      <td>0.020954</td>\n",
       "      <td>0.091444</td>\n",
       "      <td>-0.030928</td>\n",
       "      <td>-0.073121</td>\n",
       "      <td>-0.043275</td>\n",
       "      <td>-0.011149</td>\n",
       "      <td>0.008058</td>\n",
       "      <td>0.021357</td>\n",
       "      <td>0.067758</td>\n",
       "      <td>-0.044261</td>\n",
       "    </tr>\n",
       "  </tbody>\n",
       "</table>\n",
       "<p>1 rows × 293 columns</p>\n",
       "</div>"
      ],
      "text/plain": [
       "   Unnamed: 0     id                         listing_url       scrape_id  \\\n",
       "0           5  34981  https://www.airbnb.com/rooms/34981  20230610001920   \n",
       "\n",
       "  last_scraped       source  \\\n",
       "0   2023-06-10  city scrape   \n",
       "\n",
       "                                                name  \\\n",
       "0  Rental unit in Barcelona · ★4.52 · 4 bedrooms ...   \n",
       "\n",
       "                               neighborhood_overview  \\\n",
       "0  Located in Ciutat Vella in the Gothic Quarter,...   \n",
       "\n",
       "                                         picture_url  host_id  ...  \\\n",
       "0  https://a0.muscache.com/pictures/c4d1723c-e479...    73163  ...   \n",
       "\n",
       "  description_123 description_124 description_125 description_126  \\\n",
       "0        0.020954        0.091444       -0.030928       -0.073121   \n",
       "\n",
       "  description_127 description_128 description_129 description_130  \\\n",
       "0       -0.043275       -0.011149        0.008058        0.021357   \n",
       "\n",
       "  description_131 description_132  \n",
       "0        0.067758       -0.044261  \n",
       "\n",
       "[1 rows x 293 columns]"
      ]
     },
     "metadata": {},
     "output_type": "display_data"
    }
   ],
   "source": [
    "# En cas de que no es pugui utilitzar el PCA s'ha de modificar i carregar les columnes directes del BERT\n",
    "filtered_insight_OHE_2_PCA_desc = filtered_insight_OHE_2_PCA.copy()\n",
    "column_titles = [f'description_{i}' for i in range(len(compressed))]\n",
    "for i in range(len(compressed)):\n",
    "    filtered_insight_OHE_2_PCA_desc[column_titles[i]] = compressed[i]\n",
    "    \n",
    "columns_to_drop = [col for col in [\"description\"] if col in filtered_insight_OHE_2_PCA_desc.columns] # per seguretat\n",
    "filtered_insight_OHE_2_PCA_desc.drop(columns=columns_to_drop, inplace=True)\n",
    "\n",
    "display(filtered_insight_OHE_2_PCA_desc.head(1))"
   ]
  },
  {
   "cell_type": "code",
   "execution_count": 23,
   "id": "113e548f",
   "metadata": {
    "ExecuteTime": {
     "end_time": "2023-10-29T19:29:22.192908Z",
     "start_time": "2023-10-29T19:29:21.181672Z"
    }
   },
   "outputs": [],
   "source": [
    "# To save the DataFrame to a CSV file with the embeddings, you can use:\n",
    "filtered_insight_OHE_2_PCA_desc.to_csv('bdd_barcelona/processed/Test-2/output_with_embeddings.csv', index=False)"
   ]
  },
  {
   "cell_type": "markdown",
   "id": "25a39127",
   "metadata": {},
   "source": [
    "# Results"
   ]
  },
  {
   "cell_type": "code",
   "execution_count": 379,
   "id": "9e634493",
   "metadata": {
    "ExecuteTime": {
     "end_time": "2023-10-19T23:31:16.103025Z",
     "start_time": "2023-10-19T23:31:16.096571Z"
    }
   },
   "outputs": [],
   "source": [
    "from rich import print\n",
    "from tabulate import tabulate\n",
    "from IPython.display import Markdown\n",
    "from IPython.display import display, HTML"
   ]
  },
  {
   "cell_type": "code",
   "execution_count": 380,
   "id": "8cdc26dd",
   "metadata": {
    "ExecuteTime": {
     "end_time": "2023-10-19T23:31:16.414202Z",
     "start_time": "2023-10-19T23:31:16.404934Z"
    }
   },
   "outputs": [],
   "source": [
    "def print_title(text):\n",
    "    formatted_text = f\"<b><big>{text}</big></b>\"\n",
    "    display(HTML(formatted_text))\n",
    "    return"
   ]
  },
  {
   "cell_type": "code",
   "execution_count": 381,
   "id": "9324e504",
   "metadata": {
    "ExecuteTime": {
     "end_time": "2023-10-19T23:31:16.911900Z",
     "start_time": "2023-10-19T23:31:16.904245Z"
    }
   },
   "outputs": [],
   "source": [
    "def col_table3(list_strings):\n",
    "    num_columns = 5\n",
    "    num_rows = len(list_strings) // num_columns + (len(list_strings) % num_columns > 0)\n",
    "    table = []\n",
    "    if(type(list_strings) is not list):\n",
    "        list_strings = list_strings.tolist()\n",
    "    for i in range(num_rows):\n",
    "        row = list_strings[i::num_rows]\n",
    "        row.extend([''] * (num_columns - len(row)))\n",
    "        table.append(row)\n",
    "    html_table = tabulate(table, headers=['', '', ''], tablefmt='html')\n",
    "    display(HTML(html_table))\n",
    "    return"
   ]
  },
  {
   "cell_type": "code",
   "execution_count": 383,
   "id": "b740b389",
   "metadata": {
    "ExecuteTime": {
     "end_time": "2023-10-19T23:31:38.666369Z",
     "start_time": "2023-10-19T23:31:38.639097Z"
    }
   },
   "outputs": [
    {
     "data": {
      "text/html": [
       "<pre style=\"white-space:pre;overflow-x:auto;line-height:normal;font-family:Menlo,'DejaVu Sans Mono',consolas,'Courier New',monospace\">These are the values we are working with, of wich, we will only use a few\n",
       "</pre>\n"
      ],
      "text/plain": [
       "These are the values we are working with, of wich, we will only use a few\n"
      ]
     },
     "metadata": {},
     "output_type": "display_data"
    },
    {
     "data": {
      "text/html": [
       "<b><big>Insights dataset keys</big></b>"
      ],
      "text/plain": [
       "<IPython.core.display.HTML object>"
      ]
     },
     "metadata": {},
     "output_type": "display_data"
    },
    {
     "data": {
      "text/html": [
       "<table>\n",
       "<thead>\n",
       "<tr><th>                         </th><th>                                            </th><th>              </th><th>              </th><th>               </th></tr>\n",
       "</thead>\n",
       "<tbody>\n",
       "<tr><td>id                       </td><td>review_scores_rating                        </td><td>amenities_33  </td><td>description_16</td><td>description_75 </td></tr>\n",
       "<tr><td>listing_url              </td><td>review_scores_accuracy                      </td><td>amenities_34  </td><td>description_17</td><td>description_76 </td></tr>\n",
       "<tr><td>scrape_id                </td><td>review_scores_cleanliness                   </td><td>amenities_35  </td><td>description_18</td><td>description_77 </td></tr>\n",
       "<tr><td>last_scraped             </td><td>review_scores_checkin                       </td><td>amenities_36  </td><td>description_19</td><td>description_78 </td></tr>\n",
       "<tr><td>source                   </td><td>review_scores_communication                 </td><td>amenities_37  </td><td>description_20</td><td>description_79 </td></tr>\n",
       "<tr><td>name                     </td><td>review_scores_location                      </td><td>amenities_38  </td><td>description_21</td><td>description_80 </td></tr>\n",
       "<tr><td>neighborhood_overview    </td><td>review_scores_value                         </td><td>amenities_39  </td><td>description_22</td><td>description_81 </td></tr>\n",
       "<tr><td>picture_url              </td><td>license                                     </td><td>amenities_40  </td><td>description_23</td><td>description_82 </td></tr>\n",
       "<tr><td>host_id                  </td><td>instant_bookable                            </td><td>amenities_41  </td><td>description_24</td><td>description_83 </td></tr>\n",
       "<tr><td>host_url                 </td><td>calculated_host_listings_count              </td><td>amenities_42  </td><td>description_25</td><td>description_84 </td></tr>\n",
       "<tr><td>host_name                </td><td>calculated_host_listings_count_entire_homes </td><td>amenities_43  </td><td>description_26</td><td>description_85 </td></tr>\n",
       "<tr><td>host_since               </td><td>calculated_host_listings_count_private_rooms</td><td>amenities_44  </td><td>description_27</td><td>description_86 </td></tr>\n",
       "<tr><td>host_location            </td><td>calculated_host_listings_count_shared_rooms </td><td>amenities_45  </td><td>description_28</td><td>description_87 </td></tr>\n",
       "<tr><td>host_about               </td><td>reviews_per_month                           </td><td>amenities_46  </td><td>description_29</td><td>description_88 </td></tr>\n",
       "<tr><td>host_response_time       </td><td>embeddings                                  </td><td>amenities_47  </td><td>description_30</td><td>description_89 </td></tr>\n",
       "<tr><td>host_response_rate       </td><td>description_embeddings                      </td><td>amenities_48  </td><td>description_31</td><td>description_90 </td></tr>\n",
       "<tr><td>host_acceptance_rate     </td><td>Ciutat Vella                                </td><td>amenities_49  </td><td>description_32</td><td>description_91 </td></tr>\n",
       "<tr><td>host_is_superhost        </td><td>Eixample                                    </td><td>amenities_50  </td><td>description_33</td><td>description_92 </td></tr>\n",
       "<tr><td>host_thumbnail_url       </td><td>Gràcia                                      </td><td>amenities_51  </td><td>description_34</td><td>description_93 </td></tr>\n",
       "<tr><td>host_picture_url         </td><td>Horta-Guinardó                              </td><td>amenities_52  </td><td>description_35</td><td>description_94 </td></tr>\n",
       "<tr><td>host_neighbourhood       </td><td>Les Corts                                   </td><td>amenities_53  </td><td>description_36</td><td>description_95 </td></tr>\n",
       "<tr><td>host_listings_count      </td><td>Nou Barris                                  </td><td>amenities_54  </td><td>description_37</td><td>description_96 </td></tr>\n",
       "<tr><td>host_total_listings_count</td><td>Sant Andreu                                 </td><td>amenities_55  </td><td>description_38</td><td>description_97 </td></tr>\n",
       "<tr><td>host_verifications       </td><td>Sant Martí                                  </td><td>amenities_56  </td><td>description_39</td><td>description_98 </td></tr>\n",
       "<tr><td>host_has_profile_pic     </td><td>Sants-Montjuïc                              </td><td>amenities_57  </td><td>description_40</td><td>description_99 </td></tr>\n",
       "<tr><td>host_identity_verified   </td><td>Sarrià-Sant Gervasi                         </td><td>amenities_58  </td><td>description_41</td><td>description_100</td></tr>\n",
       "<tr><td>neighbourhood            </td><td>amenities_0                                 </td><td>amenities_59  </td><td>description_42</td><td>description_101</td></tr>\n",
       "<tr><td>neighbourhood_cleansed   </td><td>amenities_1                                 </td><td>amenities_60  </td><td>description_43</td><td>description_102</td></tr>\n",
       "<tr><td>latitude                 </td><td>amenities_2                                 </td><td>amenities_61  </td><td>description_44</td><td>description_103</td></tr>\n",
       "<tr><td>longitude                </td><td>amenities_3                                 </td><td>amenities_62  </td><td>description_45</td><td>description_104</td></tr>\n",
       "<tr><td>property_type            </td><td>amenities_4                                 </td><td>amenities_63  </td><td>description_46</td><td>description_105</td></tr>\n",
       "<tr><td>room_type                </td><td>amenities_5                                 </td><td>amenities_64  </td><td>description_47</td><td>description_106</td></tr>\n",
       "<tr><td>accommodates             </td><td>amenities_6                                 </td><td>amenities_65  </td><td>description_48</td><td>description_107</td></tr>\n",
       "<tr><td>bathrooms                </td><td>amenities_7                                 </td><td>amenities_66  </td><td>description_49</td><td>description_108</td></tr>\n",
       "<tr><td>bathrooms_text           </td><td>amenities_8                                 </td><td>amenities_67  </td><td>description_50</td><td>description_109</td></tr>\n",
       "<tr><td>bedrooms                 </td><td>amenities_9                                 </td><td>amenities_68  </td><td>description_51</td><td>description_110</td></tr>\n",
       "<tr><td>beds                     </td><td>amenities_10                                </td><td>amenities_69  </td><td>description_52</td><td>description_111</td></tr>\n",
       "<tr><td>amenities                </td><td>amenities_11                                </td><td>amenities_70  </td><td>description_53</td><td>description_112</td></tr>\n",
       "<tr><td>price                    </td><td>amenities_12                                </td><td>amenities_71  </td><td>description_54</td><td>description_113</td></tr>\n",
       "<tr><td>minimum_nights           </td><td>amenities_13                                </td><td>amenities_72  </td><td>description_55</td><td>description_114</td></tr>\n",
       "<tr><td>maximum_nights           </td><td>amenities_14                                </td><td>amenities_73  </td><td>description_56</td><td>description_115</td></tr>\n",
       "<tr><td>minimum_minimum_nights   </td><td>amenities_15                                </td><td>amenities_74  </td><td>description_57</td><td>description_116</td></tr>\n",
       "<tr><td>maximum_minimum_nights   </td><td>amenities_16                                </td><td>amenities_75  </td><td>description_58</td><td>description_117</td></tr>\n",
       "<tr><td>minimum_maximum_nights   </td><td>amenities_17                                </td><td>description_0 </td><td>description_59</td><td>description_118</td></tr>\n",
       "<tr><td>maximum_maximum_nights   </td><td>amenities_18                                </td><td>description_1 </td><td>description_60</td><td>description_119</td></tr>\n",
       "<tr><td>minimum_nights_avg_ntm   </td><td>amenities_19                                </td><td>description_2 </td><td>description_61</td><td>description_120</td></tr>\n",
       "<tr><td>maximum_nights_avg_ntm   </td><td>amenities_20                                </td><td>description_3 </td><td>description_62</td><td>description_121</td></tr>\n",
       "<tr><td>calendar_updated         </td><td>amenities_21                                </td><td>description_4 </td><td>description_63</td><td>description_122</td></tr>\n",
       "<tr><td>has_availability         </td><td>amenities_22                                </td><td>description_5 </td><td>description_64</td><td>description_123</td></tr>\n",
       "<tr><td>availability_30          </td><td>amenities_23                                </td><td>description_6 </td><td>description_65</td><td>description_124</td></tr>\n",
       "<tr><td>availability_60          </td><td>amenities_24                                </td><td>description_7 </td><td>description_66</td><td>description_125</td></tr>\n",
       "<tr><td>availability_90          </td><td>amenities_25                                </td><td>description_8 </td><td>description_67</td><td>description_126</td></tr>\n",
       "<tr><td>availability_365         </td><td>amenities_26                                </td><td>description_9 </td><td>description_68</td><td>description_127</td></tr>\n",
       "<tr><td>calendar_last_scraped    </td><td>amenities_27                                </td><td>description_10</td><td>description_69</td><td>description_128</td></tr>\n",
       "<tr><td>number_of_reviews        </td><td>amenities_28                                </td><td>description_11</td><td>description_70</td><td>description_129</td></tr>\n",
       "<tr><td>number_of_reviews_ltm    </td><td>amenities_29                                </td><td>description_12</td><td>description_71</td><td>description_130</td></tr>\n",
       "<tr><td>number_of_reviews_l30d   </td><td>amenities_30                                </td><td>description_13</td><td>description_72</td><td>description_131</td></tr>\n",
       "<tr><td>first_review             </td><td>amenities_31                                </td><td>description_14</td><td>description_73</td><td>description_132</td></tr>\n",
       "<tr><td>last_review              </td><td>amenities_32                                </td><td>description_15</td><td>description_74</td><td>               </td></tr>\n",
       "</tbody>\n",
       "</table>"
      ],
      "text/plain": [
       "<IPython.core.display.HTML object>"
      ]
     },
     "metadata": {},
     "output_type": "display_data"
    }
   ],
   "source": [
    "filtered_insight_OHE_2_PCA_embeded = filtered_insight_OHE_2_PCA_desc.copy()\n",
    "print(\"These are the values we are working with, of wich, we will only use a few\")\n",
    "print_title(\"Insights dataset keys\")\n",
    "col_table3(filtered_insight_OHE_2_PCA_embeded.keys().values[1::])\n"
   ]
  },
  {
   "cell_type": "code",
   "execution_count": 387,
   "id": "c48dc470",
   "metadata": {
    "ExecuteTime": {
     "end_time": "2023-10-20T08:01:59.021163Z",
     "start_time": "2023-10-20T08:01:58.188803Z"
    }
   },
   "outputs": [],
   "source": [
    "# Eliminate original columns for \"description\", \"amenities\" and \"neighbourhood_group_cleansed\"\n",
    "columns_to_drop = [col for col in [\"amenities\",\"description\",\"neighbourhood_group_cleansed\",\"embeddings\",\"description_embeddings\"] if col in filtered_insight_OHE_2_PCA_embeded.columns]\n",
    "filtered_insight_OHE_2_PCA_embeded.drop(columns=columns_to_drop, inplace=True)\n",
    "\n",
    "filtered_insight_OHE_2_PCA_embeded.to_csv(\"bdd_barcelona/processed/Test-2/insight_encoded.csv\")"
   ]
  }
 ],
 "metadata": {
  "hide_input": false,
  "kernelspec": {
   "display_name": "Python 3 (ipykernel)",
   "language": "python",
   "name": "python3"
  },
  "language_info": {
   "codemirror_mode": {
    "name": "ipython",
    "version": 3
   },
   "file_extension": ".py",
   "mimetype": "text/x-python",
   "name": "python",
   "nbconvert_exporter": "python",
   "pygments_lexer": "ipython3",
   "version": "3.11.4"
  }
 },
 "nbformat": 4,
 "nbformat_minor": 5
}
